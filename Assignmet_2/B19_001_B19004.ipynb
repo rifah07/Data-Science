{
 "cells": [
  {
   "cell_type": "markdown",
   "metadata": {},
   "source": [
    "# Task 1:"
   ]
  },
  {
   "cell_type": "markdown",
   "metadata": {
    "id": "GK39uRfCmGha"
   },
   "source": [
    "##  1.Dataset Preparation"
   ]
  },
  {
   "cell_type": "code",
   "execution_count": 60,
   "metadata": {
    "id": "8EFanXdzlCN2"
   },
   "outputs": [],
   "source": [
    "import numpy as np\n",
    "import pandas as pd\n"
   ]
  },
  {
   "cell_type": "code",
   "execution_count": 61,
   "metadata": {
    "id": "cYMiEAAXlJR5"
   },
   "outputs": [],
   "source": [
    "np.random.seed(42)\n",
    "\n",
    "x = np.random.rand(40) * 7\n",
    "\n",
    "y= 4*x + np.random.randn(40) * 3"
   ]
  },
  {
   "cell_type": "code",
   "execution_count": 62,
   "metadata": {
    "id": "lEHFnJDzlLF_"
   },
   "outputs": [],
   "source": [
    "data = pd.DataFrame({'x': x, 'y': y})"
   ]
  },
  {
   "cell_type": "code",
   "execution_count": 63,
   "metadata": {
    "colab": {
     "base_uri": "https://localhost:8080/",
     "height": 1000
    },
    "id": "YzRZpdQLoWZB",
    "outputId": "f9b23a8d-2cfc-4a63-9ce1-2d2cd7993928"
   },
   "outputs": [
    {
     "data": {
      "text/html": [
       "<div>\n",
       "<style scoped>\n",
       "    .dataframe tbody tr th:only-of-type {\n",
       "        vertical-align: middle;\n",
       "    }\n",
       "\n",
       "    .dataframe tbody tr th {\n",
       "        vertical-align: top;\n",
       "    }\n",
       "\n",
       "    .dataframe thead th {\n",
       "        text-align: right;\n",
       "    }\n",
       "</style>\n",
       "<table border=\"1\" class=\"dataframe\">\n",
       "  <thead>\n",
       "    <tr style=\"text-align: right;\">\n",
       "      <th></th>\n",
       "      <th>x</th>\n",
       "      <th>y</th>\n",
       "    </tr>\n",
       "  </thead>\n",
       "  <tbody>\n",
       "    <tr>\n",
       "      <th>0</th>\n",
       "      <td>2.621781</td>\n",
       "      <td>10.446632</td>\n",
       "    </tr>\n",
       "    <tr>\n",
       "      <th>1</th>\n",
       "      <td>6.655000</td>\n",
       "      <td>23.446868</td>\n",
       "    </tr>\n",
       "    <tr>\n",
       "      <th>2</th>\n",
       "      <td>5.123958</td>\n",
       "      <td>22.963465</td>\n",
       "    </tr>\n",
       "    <tr>\n",
       "      <th>3</th>\n",
       "      <td>4.190609</td>\n",
       "      <td>13.099907</td>\n",
       "    </tr>\n",
       "    <tr>\n",
       "      <th>4</th>\n",
       "      <td>1.092130</td>\n",
       "      <td>4.995113</td>\n",
       "    </tr>\n",
       "    <tr>\n",
       "      <th>5</th>\n",
       "      <td>1.091962</td>\n",
       "      <td>-1.511164</td>\n",
       "    </tr>\n",
       "    <tr>\n",
       "      <th>6</th>\n",
       "      <td>0.406585</td>\n",
       "      <td>-2.358217</td>\n",
       "    </tr>\n",
       "    <tr>\n",
       "      <th>7</th>\n",
       "      <td>6.063233</td>\n",
       "      <td>24.843516</td>\n",
       "    </tr>\n",
       "    <tr>\n",
       "      <th>8</th>\n",
       "      <td>4.207805</td>\n",
       "      <td>19.046620</td>\n",
       "    </tr>\n",
       "    <tr>\n",
       "      <th>9</th>\n",
       "      <td>4.956508</td>\n",
       "      <td>20.340137</td>\n",
       "    </tr>\n",
       "    <tr>\n",
       "      <th>10</th>\n",
       "      <td>0.144091</td>\n",
       "      <td>0.229421</td>\n",
       "    </tr>\n",
       "    <tr>\n",
       "      <th>11</th>\n",
       "      <td>6.789369</td>\n",
       "      <td>26.254165</td>\n",
       "    </tr>\n",
       "    <tr>\n",
       "      <th>12</th>\n",
       "      <td>5.827098</td>\n",
       "      <td>18.872828</td>\n",
       "    </tr>\n",
       "    <tr>\n",
       "      <th>13</th>\n",
       "      <td>1.486374</td>\n",
       "      <td>3.785962</td>\n",
       "    </tr>\n",
       "    <tr>\n",
       "      <th>14</th>\n",
       "      <td>1.272775</td>\n",
       "      <td>3.709183</td>\n",
       "    </tr>\n",
       "    <tr>\n",
       "      <th>15</th>\n",
       "      <td>1.283832</td>\n",
       "      <td>8.306693</td>\n",
       "    </tr>\n",
       "    <tr>\n",
       "      <th>16</th>\n",
       "      <td>2.129696</td>\n",
       "      <td>9.549638</td>\n",
       "    </tr>\n",
       "    <tr>\n",
       "      <th>17</th>\n",
       "      <td>3.673295</td>\n",
       "      <td>9.404060</td>\n",
       "    </tr>\n",
       "    <tr>\n",
       "      <th>18</th>\n",
       "      <td>3.023615</td>\n",
       "      <td>13.066712</td>\n",
       "    </tr>\n",
       "    <tr>\n",
       "      <th>19</th>\n",
       "      <td>2.038604</td>\n",
       "      <td>6.999169</td>\n",
       "    </tr>\n",
       "    <tr>\n",
       "      <th>20</th>\n",
       "      <td>4.282970</td>\n",
       "      <td>15.101115</td>\n",
       "    </tr>\n",
       "    <tr>\n",
       "      <th>21</th>\n",
       "      <td>0.976457</td>\n",
       "      <td>5.740857</td>\n",
       "    </tr>\n",
       "    <tr>\n",
       "      <th>22</th>\n",
       "      <td>2.045013</td>\n",
       "      <td>11.273049</td>\n",
       "    </tr>\n",
       "    <tr>\n",
       "      <th>23</th>\n",
       "      <td>2.564533</td>\n",
       "      <td>13.051972</td>\n",
       "    </tr>\n",
       "    <tr>\n",
       "      <th>24</th>\n",
       "      <td>3.192490</td>\n",
       "      <td>10.252307</td>\n",
       "    </tr>\n",
       "    <tr>\n",
       "      <th>25</th>\n",
       "      <td>5.496232</td>\n",
       "      <td>21.057290</td>\n",
       "    </tr>\n",
       "    <tr>\n",
       "      <th>26</th>\n",
       "      <td>1.397716</td>\n",
       "      <td>6.584656</td>\n",
       "    </tr>\n",
       "    <tr>\n",
       "      <th>27</th>\n",
       "      <td>3.599641</td>\n",
       "      <td>17.325200</td>\n",
       "    </tr>\n",
       "    <tr>\n",
       "      <th>28</th>\n",
       "      <td>4.146902</td>\n",
       "      <td>15.150085</td>\n",
       "    </tr>\n",
       "    <tr>\n",
       "      <th>29</th>\n",
       "      <td>0.325153</td>\n",
       "      <td>0.743635</td>\n",
       "    </tr>\n",
       "    <tr>\n",
       "      <th>30</th>\n",
       "      <td>4.252814</td>\n",
       "      <td>13.692251</td>\n",
       "    </tr>\n",
       "    <tr>\n",
       "      <th>31</th>\n",
       "      <td>1.193669</td>\n",
       "      <td>1.186056</td>\n",
       "    </tr>\n",
       "    <tr>\n",
       "      <th>32</th>\n",
       "      <td>0.455361</td>\n",
       "      <td>4.259022</td>\n",
       "    </tr>\n",
       "    <tr>\n",
       "      <th>33</th>\n",
       "      <td>6.642199</td>\n",
       "      <td>30.637515</td>\n",
       "    </tr>\n",
       "    <tr>\n",
       "      <th>34</th>\n",
       "      <td>6.759424</td>\n",
       "      <td>26.821667</td>\n",
       "    </tr>\n",
       "    <tr>\n",
       "      <th>35</th>\n",
       "      <td>5.658781</td>\n",
       "      <td>25.645724</td>\n",
       "    </tr>\n",
       "    <tr>\n",
       "      <th>36</th>\n",
       "      <td>2.132296</td>\n",
       "      <td>9.614094</td>\n",
       "    </tr>\n",
       "    <tr>\n",
       "      <th>37</th>\n",
       "      <td>0.683705</td>\n",
       "      <td>0.799460</td>\n",
       "    </tr>\n",
       "    <tr>\n",
       "      <th>38</th>\n",
       "      <td>4.789631</td>\n",
       "      <td>20.242712</td>\n",
       "    </tr>\n",
       "    <tr>\n",
       "      <th>39</th>\n",
       "      <td>3.081067</td>\n",
       "      <td>16.938380</td>\n",
       "    </tr>\n",
       "  </tbody>\n",
       "</table>\n",
       "</div>"
      ],
      "text/plain": [
       "           x          y\n",
       "0   2.621781  10.446632\n",
       "1   6.655000  23.446868\n",
       "2   5.123958  22.963465\n",
       "3   4.190609  13.099907\n",
       "4   1.092130   4.995113\n",
       "5   1.091962  -1.511164\n",
       "6   0.406585  -2.358217\n",
       "7   6.063233  24.843516\n",
       "8   4.207805  19.046620\n",
       "9   4.956508  20.340137\n",
       "10  0.144091   0.229421\n",
       "11  6.789369  26.254165\n",
       "12  5.827098  18.872828\n",
       "13  1.486374   3.785962\n",
       "14  1.272775   3.709183\n",
       "15  1.283832   8.306693\n",
       "16  2.129696   9.549638\n",
       "17  3.673295   9.404060\n",
       "18  3.023615  13.066712\n",
       "19  2.038604   6.999169\n",
       "20  4.282970  15.101115\n",
       "21  0.976457   5.740857\n",
       "22  2.045013  11.273049\n",
       "23  2.564533  13.051972\n",
       "24  3.192490  10.252307\n",
       "25  5.496232  21.057290\n",
       "26  1.397716   6.584656\n",
       "27  3.599641  17.325200\n",
       "28  4.146902  15.150085\n",
       "29  0.325153   0.743635\n",
       "30  4.252814  13.692251\n",
       "31  1.193669   1.186056\n",
       "32  0.455361   4.259022\n",
       "33  6.642199  30.637515\n",
       "34  6.759424  26.821667\n",
       "35  5.658781  25.645724\n",
       "36  2.132296   9.614094\n",
       "37  0.683705   0.799460\n",
       "38  4.789631  20.242712\n",
       "39  3.081067  16.938380"
      ]
     },
     "execution_count": 63,
     "metadata": {},
     "output_type": "execute_result"
    }
   ],
   "source": [
    "data"
   ]
  },
  {
   "cell_type": "markdown",
   "metadata": {
    "id": "u-Sve2aspws3"
   },
   "source": [
    "## 2.Data Visualization"
   ]
  },
  {
   "cell_type": "code",
   "execution_count": 64,
   "metadata": {},
   "outputs": [],
   "source": [
    "import matplotlib.pyplot as plt"
   ]
  },
  {
   "cell_type": "code",
   "execution_count": 65,
   "metadata": {
    "colab": {
     "base_uri": "https://localhost:8080/",
     "height": 472
    },
    "id": "95qKligBpzyd",
    "outputId": "931b14a3-f419-4ada-f252-d42e470980a8"
   },
   "outputs": [
    {
     "data": {
      "image/png": "[encoded data removed]",
      "text/plain": [
       "<Figure size 640x480 with 1 Axes>"
      ]
     },
     "metadata": {},
     "output_type": "display_data"
    }
   ],
   "source": [
    "# Scatter plot\n",
    "plt.scatter(data['x'], data['y'], color='royalblue', alpha=0.7)\n",
    "plt.title('x vs y')\n",
    "plt.xlabel('x')\n",
    "plt.ylabel('y')\n",
    "plt.grid()\n",
    "plt.show()"
   ]
  },
  {
   "cell_type": "markdown",
   "metadata": {
    "id": "Q3MpV-EhqC6a"
   },
   "source": [
    "## 3. Linear Regression Implementation"
   ]
  },
  {
   "cell_type": "markdown",
   "metadata": {},
   "source": [
    "### number of data points"
   ]
  },
  {
   "cell_type": "code",
   "execution_count": 66,
   "metadata": {},
   "outputs": [],
   "source": [
    "\n",
    "n= len(data)"
   ]
  },
  {
   "cell_type": "markdown",
   "metadata": {},
   "source": [
    "### Linear Regression Formula"
   ]
  },
  {
   "cell_type": "markdown",
   "metadata": {},
   "source": [
    "\n",
    "#### Formula used for linear regressions is, y =  mx + c"
   ]
  },
  {
   "cell_type": "markdown",
   "metadata": {},
   "source": [
    "#### calculate slope (m) and intercept (c) using formulas"
   ]
  },
  {
   "cell_type": "markdown",
   "metadata": {},
   "source": [
    "#### m= (n∑(xy−∑x∑y)/n(∑x2)- (∑(x))2)"
   ]
  },
  {
   "cell_type": "markdown",
   "metadata": {},
   "source": [
    "#### c= (∑y∑x2– ∑x∑xy)/ (n(∑x2)– (∑(x))2​)"
   ]
  },
  {
   "cell_type": "markdown",
   "metadata": {},
   "source": [
    "#### y is Dependent Variable that Lies along Y-axis"
   ]
  },
  {
   "cell_type": "markdown",
   "metadata": {},
   "source": [
    "#### c is Y-Intercept"
   ]
  },
  {
   "cell_type": "markdown",
   "metadata": {},
   "source": [
    "#### m is Slope of Regression Line"
   ]
  },
  {
   "cell_type": "markdown",
   "metadata": {},
   "source": [
    "#### x is Independent Variable that Lies along X-axis"
   ]
  },
  {
   "cell_type": "code",
   "execution_count": 67,
   "metadata": {},
   "outputs": [
    {
     "data": {
      "text/plain": [
       "127.75437537361086"
      ]
     },
     "execution_count": 67,
     "metadata": {},
     "output_type": "execute_result"
    }
   ],
   "source": [
    "sum_x= np.sum(x)\n",
    "sum_x"
   ]
  },
  {
   "cell_type": "code",
   "execution_count": 68,
   "metadata": {},
   "outputs": [
    {
     "data": {
      "text/plain": [
       "501.60775122280336"
      ]
     },
     "execution_count": 68,
     "metadata": {},
     "output_type": "execute_result"
    }
   ],
   "source": [
    "sum_y= np.sum(y)\n",
    "sum_y"
   ]
  },
  {
   "cell_type": "code",
   "execution_count": 69,
   "metadata": {},
   "outputs": [
    {
     "data": {
      "text/plain": [
       "2279.9645395828084"
      ]
     },
     "execution_count": 69,
     "metadata": {},
     "output_type": "execute_result"
    }
   ],
   "source": [
    "sum_xy= np.sum(x*y)\n",
    "sum_xy"
   ]
  },
  {
   "cell_type": "code",
   "execution_count": 70,
   "metadata": {},
   "outputs": [
    {
     "data": {
      "text/plain": [
       "575.1074996478538"
      ]
     },
     "execution_count": 70,
     "metadata": {},
     "output_type": "execute_result"
    }
   ],
   "source": [
    "sum_x2= np.sum(x**2)\n",
    "sum_x2"
   ]
  },
  {
   "cell_type": "code",
   "execution_count": 71,
   "metadata": {},
   "outputs": [],
   "source": [
    "data1 = pd.DataFrame({'x': x,\n",
    "                     'y': y,\n",
    "                    'x2':(x**2),\n",
    "                    'x*y':(x*y)})"
   ]
  },
  {
   "cell_type": "code",
   "execution_count": 72,
   "metadata": {},
   "outputs": [],
   "source": [
    "data2 = pd.DataFrame({'Summation(x)': [np.sum(x)],\n",
    "                     'Summation(y)': [np.sum(y)],\n",
    "                    'Summation(x2)': [np.sum((x**2))],\n",
    "                    'Summation(x*y)': [np.sum((x*y))]})"
   ]
  },
  {
   "cell_type": "code",
   "execution_count": 73,
   "metadata": {},
   "outputs": [
    {
     "data": {
      "text/html": [
       "<div>\n",
       "<style scoped>\n",
       "    .dataframe tbody tr th:only-of-type {\n",
       "        vertical-align: middle;\n",
       "    }\n",
       "\n",
       "    .dataframe tbody tr th {\n",
       "        vertical-align: top;\n",
       "    }\n",
       "\n",
       "    .dataframe thead th {\n",
       "        text-align: right;\n",
       "    }\n",
       "</style>\n",
       "<table border=\"1\" class=\"dataframe\">\n",
       "  <thead>\n",
       "    <tr style=\"text-align: right;\">\n",
       "      <th></th>\n",
       "      <th>x</th>\n",
       "      <th>y</th>\n",
       "      <th>x2</th>\n",
       "      <th>x*y</th>\n",
       "    </tr>\n",
       "  </thead>\n",
       "  <tbody>\n",
       "    <tr>\n",
       "      <th>0</th>\n",
       "      <td>2.621781</td>\n",
       "      <td>10.446632</td>\n",
       "      <td>6.873735</td>\n",
       "      <td>27.388779</td>\n",
       "    </tr>\n",
       "    <tr>\n",
       "      <th>1</th>\n",
       "      <td>6.655000</td>\n",
       "      <td>23.446868</td>\n",
       "      <td>44.289027</td>\n",
       "      <td>156.038909</td>\n",
       "    </tr>\n",
       "    <tr>\n",
       "      <th>2</th>\n",
       "      <td>5.123958</td>\n",
       "      <td>22.963465</td>\n",
       "      <td>26.254941</td>\n",
       "      <td>117.663821</td>\n",
       "    </tr>\n",
       "    <tr>\n",
       "      <th>3</th>\n",
       "      <td>4.190609</td>\n",
       "      <td>13.099907</td>\n",
       "      <td>17.561207</td>\n",
       "      <td>54.896592</td>\n",
       "    </tr>\n",
       "    <tr>\n",
       "      <th>4</th>\n",
       "      <td>1.092130</td>\n",
       "      <td>4.995113</td>\n",
       "      <td>1.192749</td>\n",
       "      <td>5.455315</td>\n",
       "    </tr>\n",
       "    <tr>\n",
       "      <th>5</th>\n",
       "      <td>1.091962</td>\n",
       "      <td>-1.511164</td>\n",
       "      <td>1.192380</td>\n",
       "      <td>-1.650133</td>\n",
       "    </tr>\n",
       "    <tr>\n",
       "      <th>6</th>\n",
       "      <td>0.406585</td>\n",
       "      <td>-2.358217</td>\n",
       "      <td>0.165312</td>\n",
       "      <td>-0.958816</td>\n",
       "    </tr>\n",
       "    <tr>\n",
       "      <th>7</th>\n",
       "      <td>6.063233</td>\n",
       "      <td>24.843516</td>\n",
       "      <td>36.762795</td>\n",
       "      <td>150.632025</td>\n",
       "    </tr>\n",
       "    <tr>\n",
       "      <th>8</th>\n",
       "      <td>4.207805</td>\n",
       "      <td>19.046620</td>\n",
       "      <td>17.705624</td>\n",
       "      <td>80.144465</td>\n",
       "    </tr>\n",
       "    <tr>\n",
       "      <th>9</th>\n",
       "      <td>4.956508</td>\n",
       "      <td>20.340137</td>\n",
       "      <td>24.566972</td>\n",
       "      <td>100.816053</td>\n",
       "    </tr>\n",
       "    <tr>\n",
       "      <th>10</th>\n",
       "      <td>0.144091</td>\n",
       "      <td>0.229421</td>\n",
       "      <td>0.020762</td>\n",
       "      <td>0.033058</td>\n",
       "    </tr>\n",
       "    <tr>\n",
       "      <th>11</th>\n",
       "      <td>6.789369</td>\n",
       "      <td>26.254165</td>\n",
       "      <td>46.095531</td>\n",
       "      <td>178.249212</td>\n",
       "    </tr>\n",
       "    <tr>\n",
       "      <th>12</th>\n",
       "      <td>5.827098</td>\n",
       "      <td>18.872828</td>\n",
       "      <td>33.955077</td>\n",
       "      <td>109.973827</td>\n",
       "    </tr>\n",
       "    <tr>\n",
       "      <th>13</th>\n",
       "      <td>1.486374</td>\n",
       "      <td>3.785962</td>\n",
       "      <td>2.209307</td>\n",
       "      <td>5.627355</td>\n",
       "    </tr>\n",
       "    <tr>\n",
       "      <th>14</th>\n",
       "      <td>1.272775</td>\n",
       "      <td>3.709183</td>\n",
       "      <td>1.619956</td>\n",
       "      <td>4.720954</td>\n",
       "    </tr>\n",
       "    <tr>\n",
       "      <th>15</th>\n",
       "      <td>1.283832</td>\n",
       "      <td>8.306693</td>\n",
       "      <td>1.648223</td>\n",
       "      <td>10.664395</td>\n",
       "    </tr>\n",
       "    <tr>\n",
       "      <th>16</th>\n",
       "      <td>2.129696</td>\n",
       "      <td>9.549638</td>\n",
       "      <td>4.535604</td>\n",
       "      <td>20.337822</td>\n",
       "    </tr>\n",
       "    <tr>\n",
       "      <th>17</th>\n",
       "      <td>3.673295</td>\n",
       "      <td>9.404060</td>\n",
       "      <td>13.493096</td>\n",
       "      <td>34.543885</td>\n",
       "    </tr>\n",
       "    <tr>\n",
       "      <th>18</th>\n",
       "      <td>3.023615</td>\n",
       "      <td>13.066712</td>\n",
       "      <td>9.142248</td>\n",
       "      <td>39.508709</td>\n",
       "    </tr>\n",
       "    <tr>\n",
       "      <th>19</th>\n",
       "      <td>2.038604</td>\n",
       "      <td>6.999169</td>\n",
       "      <td>4.155906</td>\n",
       "      <td>14.268534</td>\n",
       "    </tr>\n",
       "    <tr>\n",
       "      <th>20</th>\n",
       "      <td>4.282970</td>\n",
       "      <td>15.101115</td>\n",
       "      <td>18.343834</td>\n",
       "      <td>64.677627</td>\n",
       "    </tr>\n",
       "    <tr>\n",
       "      <th>21</th>\n",
       "      <td>0.976457</td>\n",
       "      <td>5.740857</td>\n",
       "      <td>0.953468</td>\n",
       "      <td>5.605700</td>\n",
       "    </tr>\n",
       "    <tr>\n",
       "      <th>22</th>\n",
       "      <td>2.045013</td>\n",
       "      <td>11.273049</td>\n",
       "      <td>4.182076</td>\n",
       "      <td>23.053526</td>\n",
       "    </tr>\n",
       "    <tr>\n",
       "      <th>23</th>\n",
       "      <td>2.564533</td>\n",
       "      <td>13.051972</td>\n",
       "      <td>6.576829</td>\n",
       "      <td>33.472212</td>\n",
       "    </tr>\n",
       "    <tr>\n",
       "      <th>24</th>\n",
       "      <td>3.192490</td>\n",
       "      <td>10.252307</td>\n",
       "      <td>10.191992</td>\n",
       "      <td>32.730386</td>\n",
       "    </tr>\n",
       "    <tr>\n",
       "      <th>25</th>\n",
       "      <td>5.496232</td>\n",
       "      <td>21.057290</td>\n",
       "      <td>30.208563</td>\n",
       "      <td>115.735744</td>\n",
       "    </tr>\n",
       "    <tr>\n",
       "      <th>26</th>\n",
       "      <td>1.397716</td>\n",
       "      <td>6.584656</td>\n",
       "      <td>1.953611</td>\n",
       "      <td>9.203482</td>\n",
       "    </tr>\n",
       "    <tr>\n",
       "      <th>27</th>\n",
       "      <td>3.599641</td>\n",
       "      <td>17.325200</td>\n",
       "      <td>12.957416</td>\n",
       "      <td>62.364500</td>\n",
       "    </tr>\n",
       "    <tr>\n",
       "      <th>28</th>\n",
       "      <td>4.146902</td>\n",
       "      <td>15.150085</td>\n",
       "      <td>17.196796</td>\n",
       "      <td>62.825918</td>\n",
       "    </tr>\n",
       "    <tr>\n",
       "      <th>29</th>\n",
       "      <td>0.325153</td>\n",
       "      <td>0.743635</td>\n",
       "      <td>0.105724</td>\n",
       "      <td>0.241795</td>\n",
       "    </tr>\n",
       "    <tr>\n",
       "      <th>30</th>\n",
       "      <td>4.252814</td>\n",
       "      <td>13.692251</td>\n",
       "      <td>18.086427</td>\n",
       "      <td>58.230596</td>\n",
       "    </tr>\n",
       "    <tr>\n",
       "      <th>31</th>\n",
       "      <td>1.193669</td>\n",
       "      <td>1.186056</td>\n",
       "      <td>1.424845</td>\n",
       "      <td>1.415758</td>\n",
       "    </tr>\n",
       "    <tr>\n",
       "      <th>32</th>\n",
       "      <td>0.455361</td>\n",
       "      <td>4.259022</td>\n",
       "      <td>0.207354</td>\n",
       "      <td>1.939393</td>\n",
       "    </tr>\n",
       "    <tr>\n",
       "      <th>33</th>\n",
       "      <td>6.642199</td>\n",
       "      <td>30.637515</td>\n",
       "      <td>44.118804</td>\n",
       "      <td>203.500465</td>\n",
       "    </tr>\n",
       "    <tr>\n",
       "      <th>34</th>\n",
       "      <td>6.759424</td>\n",
       "      <td>26.821667</td>\n",
       "      <td>45.689816</td>\n",
       "      <td>181.299023</td>\n",
       "    </tr>\n",
       "    <tr>\n",
       "      <th>35</th>\n",
       "      <td>5.658781</td>\n",
       "      <td>25.645724</td>\n",
       "      <td>32.021807</td>\n",
       "      <td>145.123549</td>\n",
       "    </tr>\n",
       "    <tr>\n",
       "      <th>36</th>\n",
       "      <td>2.132296</td>\n",
       "      <td>9.614094</td>\n",
       "      <td>4.546688</td>\n",
       "      <td>20.500097</td>\n",
       "    </tr>\n",
       "    <tr>\n",
       "      <th>37</th>\n",
       "      <td>0.683705</td>\n",
       "      <td>0.799460</td>\n",
       "      <td>0.467452</td>\n",
       "      <td>0.546595</td>\n",
       "    </tr>\n",
       "    <tr>\n",
       "      <th>38</th>\n",
       "      <td>4.789631</td>\n",
       "      <td>20.242712</td>\n",
       "      <td>22.940567</td>\n",
       "      <td>96.955123</td>\n",
       "    </tr>\n",
       "    <tr>\n",
       "      <th>39</th>\n",
       "      <td>3.081067</td>\n",
       "      <td>16.938380</td>\n",
       "      <td>9.492977</td>\n",
       "      <td>52.188290</td>\n",
       "    </tr>\n",
       "  </tbody>\n",
       "</table>\n",
       "</div>"
      ],
      "text/plain": [
       "           x          y         x2         x*y\n",
       "0   2.621781  10.446632   6.873735   27.388779\n",
       "1   6.655000  23.446868  44.289027  156.038909\n",
       "2   5.123958  22.963465  26.254941  117.663821\n",
       "3   4.190609  13.099907  17.561207   54.896592\n",
       "4   1.092130   4.995113   1.192749    5.455315\n",
       "5   1.091962  -1.511164   1.192380   -1.650133\n",
       "6   0.406585  -2.358217   0.165312   -0.958816\n",
       "7   6.063233  24.843516  36.762795  150.632025\n",
       "8   4.207805  19.046620  17.705624   80.144465\n",
       "9   4.956508  20.340137  24.566972  100.816053\n",
       "10  0.144091   0.229421   0.020762    0.033058\n",
       "11  6.789369  26.254165  46.095531  178.249212\n",
       "12  5.827098  18.872828  33.955077  109.973827\n",
       "13  1.486374   3.785962   2.209307    5.627355\n",
       "14  1.272775   3.709183   1.619956    4.720954\n",
       "15  1.283832   8.306693   1.648223   10.664395\n",
       "16  2.129696   9.549638   4.535604   20.337822\n",
       "17  3.673295   9.404060  13.493096   34.543885\n",
       "18  3.023615  13.066712   9.142248   39.508709\n",
       "19  2.038604   6.999169   4.155906   14.268534\n",
       "20  4.282970  15.101115  18.343834   64.677627\n",
       "21  0.976457   5.740857   0.953468    5.605700\n",
       "22  2.045013  11.273049   4.182076   23.053526\n",
       "23  2.564533  13.051972   6.576829   33.472212\n",
       "24  3.192490  10.252307  10.191992   32.730386\n",
       "25  5.496232  21.057290  30.208563  115.735744\n",
       "26  1.397716   6.584656   1.953611    9.203482\n",
       "27  3.599641  17.325200  12.957416   62.364500\n",
       "28  4.146902  15.150085  17.196796   62.825918\n",
       "29  0.325153   0.743635   0.105724    0.241795\n",
       "30  4.252814  13.692251  18.086427   58.230596\n",
       "31  1.193669   1.186056   1.424845    1.415758\n",
       "32  0.455361   4.259022   0.207354    1.939393\n",
       "33  6.642199  30.637515  44.118804  203.500465\n",
       "34  6.759424  26.821667  45.689816  181.299023\n",
       "35  5.658781  25.645724  32.021807  145.123549\n",
       "36  2.132296   9.614094   4.546688   20.500097\n",
       "37  0.683705   0.799460   0.467452    0.546595\n",
       "38  4.789631  20.242712  22.940567   96.955123\n",
       "39  3.081067  16.938380   9.492977   52.188290"
      ]
     },
     "execution_count": 73,
     "metadata": {},
     "output_type": "execute_result"
    }
   ],
   "source": [
    "data1"
   ]
  },
  {
   "cell_type": "code",
   "execution_count": 74,
   "metadata": {},
   "outputs": [
    {
     "data": {
      "text/html": [
       "<div>\n",
       "<style scoped>\n",
       "    .dataframe tbody tr th:only-of-type {\n",
       "        vertical-align: middle;\n",
       "    }\n",
       "\n",
       "    .dataframe tbody tr th {\n",
       "        vertical-align: top;\n",
       "    }\n",
       "\n",
       "    .dataframe thead th {\n",
       "        text-align: right;\n",
       "    }\n",
       "</style>\n",
       "<table border=\"1\" class=\"dataframe\">\n",
       "  <thead>\n",
       "    <tr style=\"text-align: right;\">\n",
       "      <th></th>\n",
       "      <th>Summation(x)</th>\n",
       "      <th>Summation(y)</th>\n",
       "      <th>Summation(x2)</th>\n",
       "      <th>Summation(x*y)</th>\n",
       "    </tr>\n",
       "  </thead>\n",
       "  <tbody>\n",
       "    <tr>\n",
       "      <th>0</th>\n",
       "      <td>127.754375</td>\n",
       "      <td>501.607751</td>\n",
       "      <td>575.1075</td>\n",
       "      <td>2279.96454</td>\n",
       "    </tr>\n",
       "  </tbody>\n",
       "</table>\n",
       "</div>"
      ],
      "text/plain": [
       "   Summation(x)  Summation(y)  Summation(x2)  Summation(x*y)\n",
       "0    127.754375    501.607751       575.1075      2279.96454"
      ]
     },
     "execution_count": 74,
     "metadata": {},
     "output_type": "execute_result"
    }
   ],
   "source": [
    "data2"
   ]
  },
  {
   "cell_type": "markdown",
   "metadata": {},
   "source": [
    "###  Slope (m)"
   ]
  },
  {
   "cell_type": "code",
   "execution_count": 75,
   "metadata": {},
   "outputs": [
    {
     "data": {
      "text/plain": [
       "4.057386136018626"
      ]
     },
     "execution_count": 75,
     "metadata": {},
     "output_type": "execute_result"
    }
   ],
   "source": [
    "\n",
    "m = (n*sum_xy - sum_x*sum_y) / (n* sum_x2 - sum_x**2)\n",
    "m"
   ]
  },
  {
   "cell_type": "markdown",
   "metadata": {},
   "source": [
    "### Intercept (c)"
   ]
  },
  {
   "cell_type": "code",
   "execution_count": 76,
   "metadata": {},
   "outputs": [
    {
     "data": {
      "text/plain": [
       "-0.4185270058451181"
      ]
     },
     "execution_count": 76,
     "metadata": {},
     "output_type": "execute_result"
    }
   ],
   "source": [
    "c=(sum_y - m * sum_x) / n\n",
    "c\n"
   ]
  },
  {
   "cell_type": "code",
   "execution_count": 77,
   "metadata": {},
   "outputs": [
    {
     "name": "stdout",
     "output_type": "stream",
     "text": [
      "Slope (m): 4.057386136018626\n",
      "Intercept (c): -0.4185270058451181\n"
     ]
    }
   ],
   "source": [
    "print(f\"Slope (m): {m}\")\n",
    "print(f\"Intercept (c): {c}\")"
   ]
  },
  {
   "cell_type": "markdown",
   "metadata": {},
   "source": [
    "###   Predict Y values"
   ]
  },
  {
   "cell_type": "code",
   "execution_count": 78,
   "metadata": {
    "colab": {
     "base_uri": "https://localhost:8080/"
    },
    "id": "t3il6cMor45t",
    "outputId": "b299307d-6dcf-4010-c986-c1b3c3575226"
   },
   "outputs": [
    {
     "data": {
      "text/plain": [
       "array([10.21905019, 26.58337832, 20.37134749, 16.58439343,  4.01266807,\n",
       "        4.01198302,  1.23114649, 24.18235059, 16.654163  , 19.69194002,\n",
       "        0.16610769, 27.12856451, 23.2242616 ,  5.61226534,  4.7456117 ,\n",
       "        4.7904734 ,  8.2224708 , 14.48544929, 11.84944711,  7.85287653,\n",
       "       16.95913716,  3.54333619,  7.87887852,  9.98677324, 12.53463721,\n",
       "       21.88180741,  5.25254844, 14.18660676, 16.4070556 ,  0.90074382,\n",
       "       16.83678141,  4.4246485 ,  1.42904901, 26.53143816, 27.00706716,\n",
       "       22.54133434,  8.23302278,  2.35552736, 19.01485616, 12.08255337])"
      ]
     },
     "execution_count": 78,
     "metadata": {},
     "output_type": "execute_result"
    }
   ],
   "source": [
    "y_pred= m * x + c\n",
    "y_pred"
   ]
  },
  {
   "cell_type": "code",
   "execution_count": 79,
   "metadata": {},
   "outputs": [
    {
     "data": {
      "text/html": [
       "<div>\n",
       "<style scoped>\n",
       "    .dataframe tbody tr th:only-of-type {\n",
       "        vertical-align: middle;\n",
       "    }\n",
       "\n",
       "    .dataframe tbody tr th {\n",
       "        vertical-align: top;\n",
       "    }\n",
       "\n",
       "    .dataframe thead th {\n",
       "        text-align: right;\n",
       "    }\n",
       "</style>\n",
       "<table border=\"1\" class=\"dataframe\">\n",
       "  <thead>\n",
       "    <tr style=\"text-align: right;\">\n",
       "      <th></th>\n",
       "      <th>y_Actual</th>\n",
       "      <th>y_predicted (y=mx+c)</th>\n",
       "    </tr>\n",
       "  </thead>\n",
       "  <tbody>\n",
       "    <tr>\n",
       "      <th>0</th>\n",
       "      <td>10.446632</td>\n",
       "      <td>10.219050</td>\n",
       "    </tr>\n",
       "    <tr>\n",
       "      <th>1</th>\n",
       "      <td>23.446868</td>\n",
       "      <td>26.583378</td>\n",
       "    </tr>\n",
       "    <tr>\n",
       "      <th>2</th>\n",
       "      <td>22.963465</td>\n",
       "      <td>20.371347</td>\n",
       "    </tr>\n",
       "    <tr>\n",
       "      <th>3</th>\n",
       "      <td>13.099907</td>\n",
       "      <td>16.584393</td>\n",
       "    </tr>\n",
       "    <tr>\n",
       "      <th>4</th>\n",
       "      <td>4.995113</td>\n",
       "      <td>4.012668</td>\n",
       "    </tr>\n",
       "    <tr>\n",
       "      <th>5</th>\n",
       "      <td>-1.511164</td>\n",
       "      <td>4.011983</td>\n",
       "    </tr>\n",
       "    <tr>\n",
       "      <th>6</th>\n",
       "      <td>-2.358217</td>\n",
       "      <td>1.231146</td>\n",
       "    </tr>\n",
       "    <tr>\n",
       "      <th>7</th>\n",
       "      <td>24.843516</td>\n",
       "      <td>24.182351</td>\n",
       "    </tr>\n",
       "    <tr>\n",
       "      <th>8</th>\n",
       "      <td>19.046620</td>\n",
       "      <td>16.654163</td>\n",
       "    </tr>\n",
       "    <tr>\n",
       "      <th>9</th>\n",
       "      <td>20.340137</td>\n",
       "      <td>19.691940</td>\n",
       "    </tr>\n",
       "    <tr>\n",
       "      <th>10</th>\n",
       "      <td>0.229421</td>\n",
       "      <td>0.166108</td>\n",
       "    </tr>\n",
       "    <tr>\n",
       "      <th>11</th>\n",
       "      <td>26.254165</td>\n",
       "      <td>27.128565</td>\n",
       "    </tr>\n",
       "    <tr>\n",
       "      <th>12</th>\n",
       "      <td>18.872828</td>\n",
       "      <td>23.224262</td>\n",
       "    </tr>\n",
       "    <tr>\n",
       "      <th>13</th>\n",
       "      <td>3.785962</td>\n",
       "      <td>5.612265</td>\n",
       "    </tr>\n",
       "    <tr>\n",
       "      <th>14</th>\n",
       "      <td>3.709183</td>\n",
       "      <td>4.745612</td>\n",
       "    </tr>\n",
       "    <tr>\n",
       "      <th>15</th>\n",
       "      <td>8.306693</td>\n",
       "      <td>4.790473</td>\n",
       "    </tr>\n",
       "    <tr>\n",
       "      <th>16</th>\n",
       "      <td>9.549638</td>\n",
       "      <td>8.222471</td>\n",
       "    </tr>\n",
       "    <tr>\n",
       "      <th>17</th>\n",
       "      <td>9.404060</td>\n",
       "      <td>14.485449</td>\n",
       "    </tr>\n",
       "    <tr>\n",
       "      <th>18</th>\n",
       "      <td>13.066712</td>\n",
       "      <td>11.849447</td>\n",
       "    </tr>\n",
       "    <tr>\n",
       "      <th>19</th>\n",
       "      <td>6.999169</td>\n",
       "      <td>7.852877</td>\n",
       "    </tr>\n",
       "    <tr>\n",
       "      <th>20</th>\n",
       "      <td>15.101115</td>\n",
       "      <td>16.959137</td>\n",
       "    </tr>\n",
       "    <tr>\n",
       "      <th>21</th>\n",
       "      <td>5.740857</td>\n",
       "      <td>3.543336</td>\n",
       "    </tr>\n",
       "    <tr>\n",
       "      <th>22</th>\n",
       "      <td>11.273049</td>\n",
       "      <td>7.878879</td>\n",
       "    </tr>\n",
       "    <tr>\n",
       "      <th>23</th>\n",
       "      <td>13.051972</td>\n",
       "      <td>9.986773</td>\n",
       "    </tr>\n",
       "    <tr>\n",
       "      <th>24</th>\n",
       "      <td>10.252307</td>\n",
       "      <td>12.534637</td>\n",
       "    </tr>\n",
       "    <tr>\n",
       "      <th>25</th>\n",
       "      <td>21.057290</td>\n",
       "      <td>21.881807</td>\n",
       "    </tr>\n",
       "    <tr>\n",
       "      <th>26</th>\n",
       "      <td>6.584656</td>\n",
       "      <td>5.252548</td>\n",
       "    </tr>\n",
       "    <tr>\n",
       "      <th>27</th>\n",
       "      <td>17.325200</td>\n",
       "      <td>14.186607</td>\n",
       "    </tr>\n",
       "    <tr>\n",
       "      <th>28</th>\n",
       "      <td>15.150085</td>\n",
       "      <td>16.407056</td>\n",
       "    </tr>\n",
       "    <tr>\n",
       "      <th>29</th>\n",
       "      <td>0.743635</td>\n",
       "      <td>0.900744</td>\n",
       "    </tr>\n",
       "    <tr>\n",
       "      <th>30</th>\n",
       "      <td>13.692251</td>\n",
       "      <td>16.836781</td>\n",
       "    </tr>\n",
       "    <tr>\n",
       "      <th>31</th>\n",
       "      <td>1.186056</td>\n",
       "      <td>4.424649</td>\n",
       "    </tr>\n",
       "    <tr>\n",
       "      <th>32</th>\n",
       "      <td>4.259022</td>\n",
       "      <td>1.429049</td>\n",
       "    </tr>\n",
       "    <tr>\n",
       "      <th>33</th>\n",
       "      <td>30.637515</td>\n",
       "      <td>26.531438</td>\n",
       "    </tr>\n",
       "    <tr>\n",
       "      <th>34</th>\n",
       "      <td>26.821667</td>\n",
       "      <td>27.007067</td>\n",
       "    </tr>\n",
       "    <tr>\n",
       "      <th>35</th>\n",
       "      <td>25.645724</td>\n",
       "      <td>22.541334</td>\n",
       "    </tr>\n",
       "    <tr>\n",
       "      <th>36</th>\n",
       "      <td>9.614094</td>\n",
       "      <td>8.233023</td>\n",
       "    </tr>\n",
       "    <tr>\n",
       "      <th>37</th>\n",
       "      <td>0.799460</td>\n",
       "      <td>2.355527</td>\n",
       "    </tr>\n",
       "    <tr>\n",
       "      <th>38</th>\n",
       "      <td>20.242712</td>\n",
       "      <td>19.014856</td>\n",
       "    </tr>\n",
       "    <tr>\n",
       "      <th>39</th>\n",
       "      <td>16.938380</td>\n",
       "      <td>12.082553</td>\n",
       "    </tr>\n",
       "  </tbody>\n",
       "</table>\n",
       "</div>"
      ],
      "text/plain": [
       "     y_Actual  y_predicted (y=mx+c)\n",
       "0   10.446632             10.219050\n",
       "1   23.446868             26.583378\n",
       "2   22.963465             20.371347\n",
       "3   13.099907             16.584393\n",
       "4    4.995113              4.012668\n",
       "5   -1.511164              4.011983\n",
       "6   -2.358217              1.231146\n",
       "7   24.843516             24.182351\n",
       "8   19.046620             16.654163\n",
       "9   20.340137             19.691940\n",
       "10   0.229421              0.166108\n",
       "11  26.254165             27.128565\n",
       "12  18.872828             23.224262\n",
       "13   3.785962              5.612265\n",
       "14   3.709183              4.745612\n",
       "15   8.306693              4.790473\n",
       "16   9.549638              8.222471\n",
       "17   9.404060             14.485449\n",
       "18  13.066712             11.849447\n",
       "19   6.999169              7.852877\n",
       "20  15.101115             16.959137\n",
       "21   5.740857              3.543336\n",
       "22  11.273049              7.878879\n",
       "23  13.051972              9.986773\n",
       "24  10.252307             12.534637\n",
       "25  21.057290             21.881807\n",
       "26   6.584656              5.252548\n",
       "27  17.325200             14.186607\n",
       "28  15.150085             16.407056\n",
       "29   0.743635              0.900744\n",
       "30  13.692251             16.836781\n",
       "31   1.186056              4.424649\n",
       "32   4.259022              1.429049\n",
       "33  30.637515             26.531438\n",
       "34  26.821667             27.007067\n",
       "35  25.645724             22.541334\n",
       "36   9.614094              8.233023\n",
       "37   0.799460              2.355527\n",
       "38  20.242712             19.014856\n",
       "39  16.938380             12.082553"
      ]
     },
     "execution_count": 79,
     "metadata": {},
     "output_type": "execute_result"
    }
   ],
   "source": [
    "pd.DataFrame({'y_Actual':y,\n",
    "              'y_predicted (y=mx+c)':y_pred}\n",
    "    )"
   ]
  },
  {
   "cell_type": "markdown",
   "metadata": {
    "id": "ZrIgivsSm0ow"
   },
   "source": [
    "## 4. Coefficient of Determination (R²)\n",
    "\n",
    "R: It represents the proportion of the variance in Y explained by X. A value close to 1 indicates a strong model fit."
   ]
  },
  {
   "cell_type": "markdown",
   "metadata": {},
   "source": [
    "### Residual sum of squares"
   ]
  },
  {
   "cell_type": "code",
   "execution_count": 80,
   "metadata": {},
   "outputs": [
    {
     "data": {
      "text/plain": [
       "278.60274624620354"
      ]
     },
     "execution_count": 80,
     "metadata": {},
     "output_type": "execute_result"
    }
   ],
   "source": [
    "rss= np.sum((y - y_pred)**2) \n",
    "rss"
   ]
  },
  {
   "cell_type": "markdown",
   "metadata": {},
   "source": [
    "### Total sum of squares"
   ]
  },
  {
   "cell_type": "code",
   "execution_count": 81,
   "metadata": {},
   "outputs": [
    {
     "data": {
      "text/plain": [
       "3029.1044673656506"
      ]
     },
     "execution_count": 81,
     "metadata": {},
     "output_type": "execute_result"
    }
   ],
   "source": [
    "tss= np.sum((y - np.mean(y))**2) \n",
    "tss"
   ]
  },
  {
   "cell_type": "markdown",
   "metadata": {},
   "source": [
    "### R²"
   ]
  },
  {
   "cell_type": "code",
   "execution_count": 82,
   "metadata": {
    "colab": {
     "base_uri": "https://localhost:8080/"
    },
    "id": "mSeEuoQTlUbn",
    "outputId": "350d14e5-df16-48fb-e154-140017b5ca98"
   },
   "outputs": [
    {
     "name": "stdout",
     "output_type": "stream",
     "text": [
      "Coefficient of Determination (R²): 0.9080247151434501\n"
     ]
    }
   ],
   "source": [
    "R_squared= 1 - (rss/tss)\n",
    "print(f\"Coefficient of Determination (R²): {R_squared}\")"
   ]
  },
  {
   "cell_type": "markdown",
   "metadata": {
    "id": "ewLTHKKNsjZp"
   },
   "source": [
    "## 5. Predictions and Visualization"
   ]
  },
  {
   "cell_type": "code",
   "execution_count": 83,
   "metadata": {},
   "outputs": [
    {
     "data": {
      "text/html": [
       "<div>\n",
       "<style scoped>\n",
       "    .dataframe tbody tr th:only-of-type {\n",
       "        vertical-align: middle;\n",
       "    }\n",
       "\n",
       "    .dataframe tbody tr th {\n",
       "        vertical-align: top;\n",
       "    }\n",
       "\n",
       "    .dataframe thead th {\n",
       "        text-align: right;\n",
       "    }\n",
       "</style>\n",
       "<table border=\"1\" class=\"dataframe\">\n",
       "  <thead>\n",
       "    <tr style=\"text-align: right;\">\n",
       "      <th></th>\n",
       "      <th>x</th>\n",
       "      <th>y</th>\n",
       "      <th>predicted (y=mx+c)</th>\n",
       "    </tr>\n",
       "  </thead>\n",
       "  <tbody>\n",
       "    <tr>\n",
       "      <th>0</th>\n",
       "      <td>2.621781</td>\n",
       "      <td>10.446632</td>\n",
       "      <td>10.219050</td>\n",
       "    </tr>\n",
       "    <tr>\n",
       "      <th>1</th>\n",
       "      <td>6.655000</td>\n",
       "      <td>23.446868</td>\n",
       "      <td>26.583378</td>\n",
       "    </tr>\n",
       "    <tr>\n",
       "      <th>2</th>\n",
       "      <td>5.123958</td>\n",
       "      <td>22.963465</td>\n",
       "      <td>20.371347</td>\n",
       "    </tr>\n",
       "    <tr>\n",
       "      <th>3</th>\n",
       "      <td>4.190609</td>\n",
       "      <td>13.099907</td>\n",
       "      <td>16.584393</td>\n",
       "    </tr>\n",
       "    <tr>\n",
       "      <th>4</th>\n",
       "      <td>1.092130</td>\n",
       "      <td>4.995113</td>\n",
       "      <td>4.012668</td>\n",
       "    </tr>\n",
       "    <tr>\n",
       "      <th>5</th>\n",
       "      <td>1.091962</td>\n",
       "      <td>-1.511164</td>\n",
       "      <td>4.011983</td>\n",
       "    </tr>\n",
       "    <tr>\n",
       "      <th>6</th>\n",
       "      <td>0.406585</td>\n",
       "      <td>-2.358217</td>\n",
       "      <td>1.231146</td>\n",
       "    </tr>\n",
       "    <tr>\n",
       "      <th>7</th>\n",
       "      <td>6.063233</td>\n",
       "      <td>24.843516</td>\n",
       "      <td>24.182351</td>\n",
       "    </tr>\n",
       "    <tr>\n",
       "      <th>8</th>\n",
       "      <td>4.207805</td>\n",
       "      <td>19.046620</td>\n",
       "      <td>16.654163</td>\n",
       "    </tr>\n",
       "    <tr>\n",
       "      <th>9</th>\n",
       "      <td>4.956508</td>\n",
       "      <td>20.340137</td>\n",
       "      <td>19.691940</td>\n",
       "    </tr>\n",
       "    <tr>\n",
       "      <th>10</th>\n",
       "      <td>0.144091</td>\n",
       "      <td>0.229421</td>\n",
       "      <td>0.166108</td>\n",
       "    </tr>\n",
       "    <tr>\n",
       "      <th>11</th>\n",
       "      <td>6.789369</td>\n",
       "      <td>26.254165</td>\n",
       "      <td>27.128565</td>\n",
       "    </tr>\n",
       "    <tr>\n",
       "      <th>12</th>\n",
       "      <td>5.827098</td>\n",
       "      <td>18.872828</td>\n",
       "      <td>23.224262</td>\n",
       "    </tr>\n",
       "    <tr>\n",
       "      <th>13</th>\n",
       "      <td>1.486374</td>\n",
       "      <td>3.785962</td>\n",
       "      <td>5.612265</td>\n",
       "    </tr>\n",
       "    <tr>\n",
       "      <th>14</th>\n",
       "      <td>1.272775</td>\n",
       "      <td>3.709183</td>\n",
       "      <td>4.745612</td>\n",
       "    </tr>\n",
       "    <tr>\n",
       "      <th>15</th>\n",
       "      <td>1.283832</td>\n",
       "      <td>8.306693</td>\n",
       "      <td>4.790473</td>\n",
       "    </tr>\n",
       "    <tr>\n",
       "      <th>16</th>\n",
       "      <td>2.129696</td>\n",
       "      <td>9.549638</td>\n",
       "      <td>8.222471</td>\n",
       "    </tr>\n",
       "    <tr>\n",
       "      <th>17</th>\n",
       "      <td>3.673295</td>\n",
       "      <td>9.404060</td>\n",
       "      <td>14.485449</td>\n",
       "    </tr>\n",
       "    <tr>\n",
       "      <th>18</th>\n",
       "      <td>3.023615</td>\n",
       "      <td>13.066712</td>\n",
       "      <td>11.849447</td>\n",
       "    </tr>\n",
       "    <tr>\n",
       "      <th>19</th>\n",
       "      <td>2.038604</td>\n",
       "      <td>6.999169</td>\n",
       "      <td>7.852877</td>\n",
       "    </tr>\n",
       "    <tr>\n",
       "      <th>20</th>\n",
       "      <td>4.282970</td>\n",
       "      <td>15.101115</td>\n",
       "      <td>16.959137</td>\n",
       "    </tr>\n",
       "    <tr>\n",
       "      <th>21</th>\n",
       "      <td>0.976457</td>\n",
       "      <td>5.740857</td>\n",
       "      <td>3.543336</td>\n",
       "    </tr>\n",
       "    <tr>\n",
       "      <th>22</th>\n",
       "      <td>2.045013</td>\n",
       "      <td>11.273049</td>\n",
       "      <td>7.878879</td>\n",
       "    </tr>\n",
       "    <tr>\n",
       "      <th>23</th>\n",
       "      <td>2.564533</td>\n",
       "      <td>13.051972</td>\n",
       "      <td>9.986773</td>\n",
       "    </tr>\n",
       "    <tr>\n",
       "      <th>24</th>\n",
       "      <td>3.192490</td>\n",
       "      <td>10.252307</td>\n",
       "      <td>12.534637</td>\n",
       "    </tr>\n",
       "    <tr>\n",
       "      <th>25</th>\n",
       "      <td>5.496232</td>\n",
       "      <td>21.057290</td>\n",
       "      <td>21.881807</td>\n",
       "    </tr>\n",
       "    <tr>\n",
       "      <th>26</th>\n",
       "      <td>1.397716</td>\n",
       "      <td>6.584656</td>\n",
       "      <td>5.252548</td>\n",
       "    </tr>\n",
       "    <tr>\n",
       "      <th>27</th>\n",
       "      <td>3.599641</td>\n",
       "      <td>17.325200</td>\n",
       "      <td>14.186607</td>\n",
       "    </tr>\n",
       "    <tr>\n",
       "      <th>28</th>\n",
       "      <td>4.146902</td>\n",
       "      <td>15.150085</td>\n",
       "      <td>16.407056</td>\n",
       "    </tr>\n",
       "    <tr>\n",
       "      <th>29</th>\n",
       "      <td>0.325153</td>\n",
       "      <td>0.743635</td>\n",
       "      <td>0.900744</td>\n",
       "    </tr>\n",
       "    <tr>\n",
       "      <th>30</th>\n",
       "      <td>4.252814</td>\n",
       "      <td>13.692251</td>\n",
       "      <td>16.836781</td>\n",
       "    </tr>\n",
       "    <tr>\n",
       "      <th>31</th>\n",
       "      <td>1.193669</td>\n",
       "      <td>1.186056</td>\n",
       "      <td>4.424649</td>\n",
       "    </tr>\n",
       "    <tr>\n",
       "      <th>32</th>\n",
       "      <td>0.455361</td>\n",
       "      <td>4.259022</td>\n",
       "      <td>1.429049</td>\n",
       "    </tr>\n",
       "    <tr>\n",
       "      <th>33</th>\n",
       "      <td>6.642199</td>\n",
       "      <td>30.637515</td>\n",
       "      <td>26.531438</td>\n",
       "    </tr>\n",
       "    <tr>\n",
       "      <th>34</th>\n",
       "      <td>6.759424</td>\n",
       "      <td>26.821667</td>\n",
       "      <td>27.007067</td>\n",
       "    </tr>\n",
       "    <tr>\n",
       "      <th>35</th>\n",
       "      <td>5.658781</td>\n",
       "      <td>25.645724</td>\n",
       "      <td>22.541334</td>\n",
       "    </tr>\n",
       "    <tr>\n",
       "      <th>36</th>\n",
       "      <td>2.132296</td>\n",
       "      <td>9.614094</td>\n",
       "      <td>8.233023</td>\n",
       "    </tr>\n",
       "    <tr>\n",
       "      <th>37</th>\n",
       "      <td>0.683705</td>\n",
       "      <td>0.799460</td>\n",
       "      <td>2.355527</td>\n",
       "    </tr>\n",
       "    <tr>\n",
       "      <th>38</th>\n",
       "      <td>4.789631</td>\n",
       "      <td>20.242712</td>\n",
       "      <td>19.014856</td>\n",
       "    </tr>\n",
       "    <tr>\n",
       "      <th>39</th>\n",
       "      <td>3.081067</td>\n",
       "      <td>16.938380</td>\n",
       "      <td>12.082553</td>\n",
       "    </tr>\n",
       "  </tbody>\n",
       "</table>\n",
       "</div>"
      ],
      "text/plain": [
       "           x          y  predicted (y=mx+c)\n",
       "0   2.621781  10.446632           10.219050\n",
       "1   6.655000  23.446868           26.583378\n",
       "2   5.123958  22.963465           20.371347\n",
       "3   4.190609  13.099907           16.584393\n",
       "4   1.092130   4.995113            4.012668\n",
       "5   1.091962  -1.511164            4.011983\n",
       "6   0.406585  -2.358217            1.231146\n",
       "7   6.063233  24.843516           24.182351\n",
       "8   4.207805  19.046620           16.654163\n",
       "9   4.956508  20.340137           19.691940\n",
       "10  0.144091   0.229421            0.166108\n",
       "11  6.789369  26.254165           27.128565\n",
       "12  5.827098  18.872828           23.224262\n",
       "13  1.486374   3.785962            5.612265\n",
       "14  1.272775   3.709183            4.745612\n",
       "15  1.283832   8.306693            4.790473\n",
       "16  2.129696   9.549638            8.222471\n",
       "17  3.673295   9.404060           14.485449\n",
       "18  3.023615  13.066712           11.849447\n",
       "19  2.038604   6.999169            7.852877\n",
       "20  4.282970  15.101115           16.959137\n",
       "21  0.976457   5.740857            3.543336\n",
       "22  2.045013  11.273049            7.878879\n",
       "23  2.564533  13.051972            9.986773\n",
       "24  3.192490  10.252307           12.534637\n",
       "25  5.496232  21.057290           21.881807\n",
       "26  1.397716   6.584656            5.252548\n",
       "27  3.599641  17.325200           14.186607\n",
       "28  4.146902  15.150085           16.407056\n",
       "29  0.325153   0.743635            0.900744\n",
       "30  4.252814  13.692251           16.836781\n",
       "31  1.193669   1.186056            4.424649\n",
       "32  0.455361   4.259022            1.429049\n",
       "33  6.642199  30.637515           26.531438\n",
       "34  6.759424  26.821667           27.007067\n",
       "35  5.658781  25.645724           22.541334\n",
       "36  2.132296   9.614094            8.233023\n",
       "37  0.683705   0.799460            2.355527\n",
       "38  4.789631  20.242712           19.014856\n",
       "39  3.081067  16.938380           12.082553"
      ]
     },
     "execution_count": 83,
     "metadata": {},
     "output_type": "execute_result"
    }
   ],
   "source": [
    "pd.DataFrame({ 'x':x,\n",
    "    'y':y,\n",
    "    'predicted (y=mx+c)':y_pred}\n",
    "    )"
   ]
  },
  {
   "cell_type": "code",
   "execution_count": 84,
   "metadata": {
    "colab": {
     "base_uri": "https://localhost:8080/",
     "height": 472
    },
    "id": "ZtVS8FLMskmJ",
    "outputId": "e60f15d9-a400-4c30-ca43-cc4e212631c9"
   },
   "outputs": [
    {
     "data": {
      "image/png": "[encoded data removed]",
      "text/plain": [
       "<Figure size 640x480 with 1 Axes>"
      ]
     },
     "metadata": {},
     "output_type": "display_data"
    }
   ],
   "source": [
    "# scatter plot and regression line\n",
    "plt.scatter(x, y, color='royalblue', alpha=0.7, label='Original Data')\n",
    "plt.plot(x, y_pred, color='red', label='Best fitting Line')\n",
    "plt.title('Linear Regression (y=mx+c)')\n",
    "plt.xlabel('X')\n",
    "plt.ylabel('Y')\n",
    "plt.legend()\n",
    "plt.grid()\n",
    "plt.show()\n"
   ]
  },
  {
   "cell_type": "markdown",
   "metadata": {
    "id": "4sXN-HdvnZKk"
   },
   "source": [
    "##  6. Residual Analysis"
   ]
  },
  {
   "cell_type": "markdown",
   "metadata": {},
   "source": [
    "## Residual = Observed value – predicted value"
   ]
  },
  {
   "cell_type": "code",
   "execution_count": 85,
   "metadata": {},
   "outputs": [
    {
     "data": {
      "text/html": [
       "<div>\n",
       "<style scoped>\n",
       "    .dataframe tbody tr th:only-of-type {\n",
       "        vertical-align: middle;\n",
       "    }\n",
       "\n",
       "    .dataframe tbody tr th {\n",
       "        vertical-align: top;\n",
       "    }\n",
       "\n",
       "    .dataframe thead th {\n",
       "        text-align: right;\n",
       "    }\n",
       "</style>\n",
       "<table border=\"1\" class=\"dataframe\">\n",
       "  <thead>\n",
       "    <tr style=\"text-align: right;\">\n",
       "      <th></th>\n",
       "      <th>Observed value</th>\n",
       "      <th>Predicted value</th>\n",
       "    </tr>\n",
       "  </thead>\n",
       "  <tbody>\n",
       "    <tr>\n",
       "      <th>0</th>\n",
       "      <td>10.446632</td>\n",
       "      <td>10.219050</td>\n",
       "    </tr>\n",
       "    <tr>\n",
       "      <th>1</th>\n",
       "      <td>23.446868</td>\n",
       "      <td>26.583378</td>\n",
       "    </tr>\n",
       "    <tr>\n",
       "      <th>2</th>\n",
       "      <td>22.963465</td>\n",
       "      <td>20.371347</td>\n",
       "    </tr>\n",
       "    <tr>\n",
       "      <th>3</th>\n",
       "      <td>13.099907</td>\n",
       "      <td>16.584393</td>\n",
       "    </tr>\n",
       "    <tr>\n",
       "      <th>4</th>\n",
       "      <td>4.995113</td>\n",
       "      <td>4.012668</td>\n",
       "    </tr>\n",
       "    <tr>\n",
       "      <th>5</th>\n",
       "      <td>-1.511164</td>\n",
       "      <td>4.011983</td>\n",
       "    </tr>\n",
       "    <tr>\n",
       "      <th>6</th>\n",
       "      <td>-2.358217</td>\n",
       "      <td>1.231146</td>\n",
       "    </tr>\n",
       "    <tr>\n",
       "      <th>7</th>\n",
       "      <td>24.843516</td>\n",
       "      <td>24.182351</td>\n",
       "    </tr>\n",
       "    <tr>\n",
       "      <th>8</th>\n",
       "      <td>19.046620</td>\n",
       "      <td>16.654163</td>\n",
       "    </tr>\n",
       "    <tr>\n",
       "      <th>9</th>\n",
       "      <td>20.340137</td>\n",
       "      <td>19.691940</td>\n",
       "    </tr>\n",
       "    <tr>\n",
       "      <th>10</th>\n",
       "      <td>0.229421</td>\n",
       "      <td>0.166108</td>\n",
       "    </tr>\n",
       "    <tr>\n",
       "      <th>11</th>\n",
       "      <td>26.254165</td>\n",
       "      <td>27.128565</td>\n",
       "    </tr>\n",
       "    <tr>\n",
       "      <th>12</th>\n",
       "      <td>18.872828</td>\n",
       "      <td>23.224262</td>\n",
       "    </tr>\n",
       "    <tr>\n",
       "      <th>13</th>\n",
       "      <td>3.785962</td>\n",
       "      <td>5.612265</td>\n",
       "    </tr>\n",
       "    <tr>\n",
       "      <th>14</th>\n",
       "      <td>3.709183</td>\n",
       "      <td>4.745612</td>\n",
       "    </tr>\n",
       "    <tr>\n",
       "      <th>15</th>\n",
       "      <td>8.306693</td>\n",
       "      <td>4.790473</td>\n",
       "    </tr>\n",
       "    <tr>\n",
       "      <th>16</th>\n",
       "      <td>9.549638</td>\n",
       "      <td>8.222471</td>\n",
       "    </tr>\n",
       "    <tr>\n",
       "      <th>17</th>\n",
       "      <td>9.404060</td>\n",
       "      <td>14.485449</td>\n",
       "    </tr>\n",
       "    <tr>\n",
       "      <th>18</th>\n",
       "      <td>13.066712</td>\n",
       "      <td>11.849447</td>\n",
       "    </tr>\n",
       "    <tr>\n",
       "      <th>19</th>\n",
       "      <td>6.999169</td>\n",
       "      <td>7.852877</td>\n",
       "    </tr>\n",
       "    <tr>\n",
       "      <th>20</th>\n",
       "      <td>15.101115</td>\n",
       "      <td>16.959137</td>\n",
       "    </tr>\n",
       "    <tr>\n",
       "      <th>21</th>\n",
       "      <td>5.740857</td>\n",
       "      <td>3.543336</td>\n",
       "    </tr>\n",
       "    <tr>\n",
       "      <th>22</th>\n",
       "      <td>11.273049</td>\n",
       "      <td>7.878879</td>\n",
       "    </tr>\n",
       "    <tr>\n",
       "      <th>23</th>\n",
       "      <td>13.051972</td>\n",
       "      <td>9.986773</td>\n",
       "    </tr>\n",
       "    <tr>\n",
       "      <th>24</th>\n",
       "      <td>10.252307</td>\n",
       "      <td>12.534637</td>\n",
       "    </tr>\n",
       "    <tr>\n",
       "      <th>25</th>\n",
       "      <td>21.057290</td>\n",
       "      <td>21.881807</td>\n",
       "    </tr>\n",
       "    <tr>\n",
       "      <th>26</th>\n",
       "      <td>6.584656</td>\n",
       "      <td>5.252548</td>\n",
       "    </tr>\n",
       "    <tr>\n",
       "      <th>27</th>\n",
       "      <td>17.325200</td>\n",
       "      <td>14.186607</td>\n",
       "    </tr>\n",
       "    <tr>\n",
       "      <th>28</th>\n",
       "      <td>15.150085</td>\n",
       "      <td>16.407056</td>\n",
       "    </tr>\n",
       "    <tr>\n",
       "      <th>29</th>\n",
       "      <td>0.743635</td>\n",
       "      <td>0.900744</td>\n",
       "    </tr>\n",
       "    <tr>\n",
       "      <th>30</th>\n",
       "      <td>13.692251</td>\n",
       "      <td>16.836781</td>\n",
       "    </tr>\n",
       "    <tr>\n",
       "      <th>31</th>\n",
       "      <td>1.186056</td>\n",
       "      <td>4.424649</td>\n",
       "    </tr>\n",
       "    <tr>\n",
       "      <th>32</th>\n",
       "      <td>4.259022</td>\n",
       "      <td>1.429049</td>\n",
       "    </tr>\n",
       "    <tr>\n",
       "      <th>33</th>\n",
       "      <td>30.637515</td>\n",
       "      <td>26.531438</td>\n",
       "    </tr>\n",
       "    <tr>\n",
       "      <th>34</th>\n",
       "      <td>26.821667</td>\n",
       "      <td>27.007067</td>\n",
       "    </tr>\n",
       "    <tr>\n",
       "      <th>35</th>\n",
       "      <td>25.645724</td>\n",
       "      <td>22.541334</td>\n",
       "    </tr>\n",
       "    <tr>\n",
       "      <th>36</th>\n",
       "      <td>9.614094</td>\n",
       "      <td>8.233023</td>\n",
       "    </tr>\n",
       "    <tr>\n",
       "      <th>37</th>\n",
       "      <td>0.799460</td>\n",
       "      <td>2.355527</td>\n",
       "    </tr>\n",
       "    <tr>\n",
       "      <th>38</th>\n",
       "      <td>20.242712</td>\n",
       "      <td>19.014856</td>\n",
       "    </tr>\n",
       "    <tr>\n",
       "      <th>39</th>\n",
       "      <td>16.938380</td>\n",
       "      <td>12.082553</td>\n",
       "    </tr>\n",
       "  </tbody>\n",
       "</table>\n",
       "</div>"
      ],
      "text/plain": [
       "    Observed value  Predicted value\n",
       "0        10.446632        10.219050\n",
       "1        23.446868        26.583378\n",
       "2        22.963465        20.371347\n",
       "3        13.099907        16.584393\n",
       "4         4.995113         4.012668\n",
       "5        -1.511164         4.011983\n",
       "6        -2.358217         1.231146\n",
       "7        24.843516        24.182351\n",
       "8        19.046620        16.654163\n",
       "9        20.340137        19.691940\n",
       "10        0.229421         0.166108\n",
       "11       26.254165        27.128565\n",
       "12       18.872828        23.224262\n",
       "13        3.785962         5.612265\n",
       "14        3.709183         4.745612\n",
       "15        8.306693         4.790473\n",
       "16        9.549638         8.222471\n",
       "17        9.404060        14.485449\n",
       "18       13.066712        11.849447\n",
       "19        6.999169         7.852877\n",
       "20       15.101115        16.959137\n",
       "21        5.740857         3.543336\n",
       "22       11.273049         7.878879\n",
       "23       13.051972         9.986773\n",
       "24       10.252307        12.534637\n",
       "25       21.057290        21.881807\n",
       "26        6.584656         5.252548\n",
       "27       17.325200        14.186607\n",
       "28       15.150085        16.407056\n",
       "29        0.743635         0.900744\n",
       "30       13.692251        16.836781\n",
       "31        1.186056         4.424649\n",
       "32        4.259022         1.429049\n",
       "33       30.637515        26.531438\n",
       "34       26.821667        27.007067\n",
       "35       25.645724        22.541334\n",
       "36        9.614094         8.233023\n",
       "37        0.799460         2.355527\n",
       "38       20.242712        19.014856\n",
       "39       16.938380        12.082553"
      ]
     },
     "execution_count": 85,
     "metadata": {},
     "output_type": "execute_result"
    }
   ],
   "source": [
    "pd.DataFrame({'Observed value':y,\n",
    "              'Predicted value':y_pred}\n",
    "    )"
   ]
  },
  {
   "cell_type": "code",
   "execution_count": 86,
   "metadata": {
    "id": "9X-2nPCalXqx"
   },
   "outputs": [
    {
     "data": {
      "text/plain": [
       "array([ 0.22758146, -3.13651052,  2.59211761, -3.48448682,  0.98244464,\n",
       "       -5.52314683, -3.5893635 ,  0.6611652 ,  2.39245707,  0.648197  ,\n",
       "        0.06331331, -0.87439973, -4.35143363, -1.82630287, -1.03642893,\n",
       "        3.51621955,  1.32716687, -5.08138967,  1.21726532, -0.85370744,\n",
       "       -1.85802211,  2.19752078,  3.39417021,  3.06519873, -2.28233022,\n",
       "       -0.82451762,  1.33210775,  3.1385929 , -1.25697039, -0.15710919,\n",
       "       -3.14453048, -3.23859291,  2.82997306,  4.10607697, -0.1854006 ,\n",
       "        3.1043901 ,  1.38107083, -1.55606743,  1.2278554 ,  4.85582615])"
      ]
     },
     "execution_count": 86,
     "metadata": {},
     "output_type": "execute_result"
    }
   ],
   "source": [
    "\n",
    "residuals = y-y_pred\n",
    "residuals"
   ]
  },
  {
   "cell_type": "code",
   "execution_count": 87,
   "metadata": {},
   "outputs": [
    {
     "data": {
      "image/png": "[encoded data removed]",
      "text/plain": [
       "<Figure size 800x500 with 1 Axes>"
      ]
     },
     "metadata": {},
     "output_type": "display_data"
    }
   ],
   "source": [
    "plt.figure(figsize=(8, 5))\n",
    "plt.scatter(y_pred, residuals,color='royalblue', alpha=0.7)\n",
    "plt.axhline(0, color='red', linestyle='--', label='Zero Error Line')\n",
    "plt.title(\"Residuals Plot\")\n",
    "plt.xlabel(\"Predicted Values\")\n",
    "plt.ylabel(\"Residuals\")\n",
    "plt.legend()\n",
    "plt.grid(alpha=0.5)\n",
    "plt.show()"
   ]
  },
  {
   "cell_type": "markdown",
   "metadata": {},
   "source": [
    "### A residual plot is a key diagnostic tool in linear regression analysis. It visualizes the residuals (differences between observed and predicted values) on the y-axis against the predicted values or another variable (such as an independent variable) on the x-axis."
   ]
  },
  {
   "cell_type": "code",
   "execution_count": 88,
   "metadata": {},
   "outputs": [
    {
     "data": {
      "text/html": [
       "<div>\n",
       "<style scoped>\n",
       "    .dataframe tbody tr th:only-of-type {\n",
       "        vertical-align: middle;\n",
       "    }\n",
       "\n",
       "    .dataframe tbody tr th {\n",
       "        vertical-align: top;\n",
       "    }\n",
       "\n",
       "    .dataframe thead th {\n",
       "        text-align: right;\n",
       "    }\n",
       "</style>\n",
       "<table border=\"1\" class=\"dataframe\">\n",
       "  <thead>\n",
       "    <tr style=\"text-align: right;\">\n",
       "      <th></th>\n",
       "      <th>Observed value</th>\n",
       "      <th>Predicted value</th>\n",
       "      <th>Residuals</th>\n",
       "    </tr>\n",
       "  </thead>\n",
       "  <tbody>\n",
       "    <tr>\n",
       "      <th>0</th>\n",
       "      <td>10.446632</td>\n",
       "      <td>10.219050</td>\n",
       "      <td>0.227581</td>\n",
       "    </tr>\n",
       "    <tr>\n",
       "      <th>1</th>\n",
       "      <td>23.446868</td>\n",
       "      <td>26.583378</td>\n",
       "      <td>-3.136511</td>\n",
       "    </tr>\n",
       "    <tr>\n",
       "      <th>2</th>\n",
       "      <td>22.963465</td>\n",
       "      <td>20.371347</td>\n",
       "      <td>2.592118</td>\n",
       "    </tr>\n",
       "    <tr>\n",
       "      <th>3</th>\n",
       "      <td>13.099907</td>\n",
       "      <td>16.584393</td>\n",
       "      <td>-3.484487</td>\n",
       "    </tr>\n",
       "    <tr>\n",
       "      <th>4</th>\n",
       "      <td>4.995113</td>\n",
       "      <td>4.012668</td>\n",
       "      <td>0.982445</td>\n",
       "    </tr>\n",
       "    <tr>\n",
       "      <th>5</th>\n",
       "      <td>-1.511164</td>\n",
       "      <td>4.011983</td>\n",
       "      <td>-5.523147</td>\n",
       "    </tr>\n",
       "    <tr>\n",
       "      <th>6</th>\n",
       "      <td>-2.358217</td>\n",
       "      <td>1.231146</td>\n",
       "      <td>-3.589363</td>\n",
       "    </tr>\n",
       "    <tr>\n",
       "      <th>7</th>\n",
       "      <td>24.843516</td>\n",
       "      <td>24.182351</td>\n",
       "      <td>0.661165</td>\n",
       "    </tr>\n",
       "    <tr>\n",
       "      <th>8</th>\n",
       "      <td>19.046620</td>\n",
       "      <td>16.654163</td>\n",
       "      <td>2.392457</td>\n",
       "    </tr>\n",
       "    <tr>\n",
       "      <th>9</th>\n",
       "      <td>20.340137</td>\n",
       "      <td>19.691940</td>\n",
       "      <td>0.648197</td>\n",
       "    </tr>\n",
       "    <tr>\n",
       "      <th>10</th>\n",
       "      <td>0.229421</td>\n",
       "      <td>0.166108</td>\n",
       "      <td>0.063313</td>\n",
       "    </tr>\n",
       "    <tr>\n",
       "      <th>11</th>\n",
       "      <td>26.254165</td>\n",
       "      <td>27.128565</td>\n",
       "      <td>-0.874400</td>\n",
       "    </tr>\n",
       "    <tr>\n",
       "      <th>12</th>\n",
       "      <td>18.872828</td>\n",
       "      <td>23.224262</td>\n",
       "      <td>-4.351434</td>\n",
       "    </tr>\n",
       "    <tr>\n",
       "      <th>13</th>\n",
       "      <td>3.785962</td>\n",
       "      <td>5.612265</td>\n",
       "      <td>-1.826303</td>\n",
       "    </tr>\n",
       "    <tr>\n",
       "      <th>14</th>\n",
       "      <td>3.709183</td>\n",
       "      <td>4.745612</td>\n",
       "      <td>-1.036429</td>\n",
       "    </tr>\n",
       "    <tr>\n",
       "      <th>15</th>\n",
       "      <td>8.306693</td>\n",
       "      <td>4.790473</td>\n",
       "      <td>3.516220</td>\n",
       "    </tr>\n",
       "    <tr>\n",
       "      <th>16</th>\n",
       "      <td>9.549638</td>\n",
       "      <td>8.222471</td>\n",
       "      <td>1.327167</td>\n",
       "    </tr>\n",
       "    <tr>\n",
       "      <th>17</th>\n",
       "      <td>9.404060</td>\n",
       "      <td>14.485449</td>\n",
       "      <td>-5.081390</td>\n",
       "    </tr>\n",
       "    <tr>\n",
       "      <th>18</th>\n",
       "      <td>13.066712</td>\n",
       "      <td>11.849447</td>\n",
       "      <td>1.217265</td>\n",
       "    </tr>\n",
       "    <tr>\n",
       "      <th>19</th>\n",
       "      <td>6.999169</td>\n",
       "      <td>7.852877</td>\n",
       "      <td>-0.853707</td>\n",
       "    </tr>\n",
       "    <tr>\n",
       "      <th>20</th>\n",
       "      <td>15.101115</td>\n",
       "      <td>16.959137</td>\n",
       "      <td>-1.858022</td>\n",
       "    </tr>\n",
       "    <tr>\n",
       "      <th>21</th>\n",
       "      <td>5.740857</td>\n",
       "      <td>3.543336</td>\n",
       "      <td>2.197521</td>\n",
       "    </tr>\n",
       "    <tr>\n",
       "      <th>22</th>\n",
       "      <td>11.273049</td>\n",
       "      <td>7.878879</td>\n",
       "      <td>3.394170</td>\n",
       "    </tr>\n",
       "    <tr>\n",
       "      <th>23</th>\n",
       "      <td>13.051972</td>\n",
       "      <td>9.986773</td>\n",
       "      <td>3.065199</td>\n",
       "    </tr>\n",
       "    <tr>\n",
       "      <th>24</th>\n",
       "      <td>10.252307</td>\n",
       "      <td>12.534637</td>\n",
       "      <td>-2.282330</td>\n",
       "    </tr>\n",
       "    <tr>\n",
       "      <th>25</th>\n",
       "      <td>21.057290</td>\n",
       "      <td>21.881807</td>\n",
       "      <td>-0.824518</td>\n",
       "    </tr>\n",
       "    <tr>\n",
       "      <th>26</th>\n",
       "      <td>6.584656</td>\n",
       "      <td>5.252548</td>\n",
       "      <td>1.332108</td>\n",
       "    </tr>\n",
       "    <tr>\n",
       "      <th>27</th>\n",
       "      <td>17.325200</td>\n",
       "      <td>14.186607</td>\n",
       "      <td>3.138593</td>\n",
       "    </tr>\n",
       "    <tr>\n",
       "      <th>28</th>\n",
       "      <td>15.150085</td>\n",
       "      <td>16.407056</td>\n",
       "      <td>-1.256970</td>\n",
       "    </tr>\n",
       "    <tr>\n",
       "      <th>29</th>\n",
       "      <td>0.743635</td>\n",
       "      <td>0.900744</td>\n",
       "      <td>-0.157109</td>\n",
       "    </tr>\n",
       "    <tr>\n",
       "      <th>30</th>\n",
       "      <td>13.692251</td>\n",
       "      <td>16.836781</td>\n",
       "      <td>-3.144530</td>\n",
       "    </tr>\n",
       "    <tr>\n",
       "      <th>31</th>\n",
       "      <td>1.186056</td>\n",
       "      <td>4.424649</td>\n",
       "      <td>-3.238593</td>\n",
       "    </tr>\n",
       "    <tr>\n",
       "      <th>32</th>\n",
       "      <td>4.259022</td>\n",
       "      <td>1.429049</td>\n",
       "      <td>2.829973</td>\n",
       "    </tr>\n",
       "    <tr>\n",
       "      <th>33</th>\n",
       "      <td>30.637515</td>\n",
       "      <td>26.531438</td>\n",
       "      <td>4.106077</td>\n",
       "    </tr>\n",
       "    <tr>\n",
       "      <th>34</th>\n",
       "      <td>26.821667</td>\n",
       "      <td>27.007067</td>\n",
       "      <td>-0.185401</td>\n",
       "    </tr>\n",
       "    <tr>\n",
       "      <th>35</th>\n",
       "      <td>25.645724</td>\n",
       "      <td>22.541334</td>\n",
       "      <td>3.104390</td>\n",
       "    </tr>\n",
       "    <tr>\n",
       "      <th>36</th>\n",
       "      <td>9.614094</td>\n",
       "      <td>8.233023</td>\n",
       "      <td>1.381071</td>\n",
       "    </tr>\n",
       "    <tr>\n",
       "      <th>37</th>\n",
       "      <td>0.799460</td>\n",
       "      <td>2.355527</td>\n",
       "      <td>-1.556067</td>\n",
       "    </tr>\n",
       "    <tr>\n",
       "      <th>38</th>\n",
       "      <td>20.242712</td>\n",
       "      <td>19.014856</td>\n",
       "      <td>1.227855</td>\n",
       "    </tr>\n",
       "    <tr>\n",
       "      <th>39</th>\n",
       "      <td>16.938380</td>\n",
       "      <td>12.082553</td>\n",
       "      <td>4.855826</td>\n",
       "    </tr>\n",
       "  </tbody>\n",
       "</table>\n",
       "</div>"
      ],
      "text/plain": [
       "    Observed value  Predicted value  Residuals\n",
       "0        10.446632        10.219050   0.227581\n",
       "1        23.446868        26.583378  -3.136511\n",
       "2        22.963465        20.371347   2.592118\n",
       "3        13.099907        16.584393  -3.484487\n",
       "4         4.995113         4.012668   0.982445\n",
       "5        -1.511164         4.011983  -5.523147\n",
       "6        -2.358217         1.231146  -3.589363\n",
       "7        24.843516        24.182351   0.661165\n",
       "8        19.046620        16.654163   2.392457\n",
       "9        20.340137        19.691940   0.648197\n",
       "10        0.229421         0.166108   0.063313\n",
       "11       26.254165        27.128565  -0.874400\n",
       "12       18.872828        23.224262  -4.351434\n",
       "13        3.785962         5.612265  -1.826303\n",
       "14        3.709183         4.745612  -1.036429\n",
       "15        8.306693         4.790473   3.516220\n",
       "16        9.549638         8.222471   1.327167\n",
       "17        9.404060        14.485449  -5.081390\n",
       "18       13.066712        11.849447   1.217265\n",
       "19        6.999169         7.852877  -0.853707\n",
       "20       15.101115        16.959137  -1.858022\n",
       "21        5.740857         3.543336   2.197521\n",
       "22       11.273049         7.878879   3.394170\n",
       "23       13.051972         9.986773   3.065199\n",
       "24       10.252307        12.534637  -2.282330\n",
       "25       21.057290        21.881807  -0.824518\n",
       "26        6.584656         5.252548   1.332108\n",
       "27       17.325200        14.186607   3.138593\n",
       "28       15.150085        16.407056  -1.256970\n",
       "29        0.743635         0.900744  -0.157109\n",
       "30       13.692251        16.836781  -3.144530\n",
       "31        1.186056         4.424649  -3.238593\n",
       "32        4.259022         1.429049   2.829973\n",
       "33       30.637515        26.531438   4.106077\n",
       "34       26.821667        27.007067  -0.185401\n",
       "35       25.645724        22.541334   3.104390\n",
       "36        9.614094         8.233023   1.381071\n",
       "37        0.799460         2.355527  -1.556067\n",
       "38       20.242712        19.014856   1.227855\n",
       "39       16.938380        12.082553   4.855826"
      ]
     },
     "execution_count": 88,
     "metadata": {},
     "output_type": "execute_result"
    }
   ],
   "source": [
    "pd.DataFrame({'Observed value':y,\n",
    "              'Predicted value':y_pred,\n",
    "             'Residuals':residuals}\n",
    "    )"
   ]
  },
  {
   "cell_type": "markdown",
   "metadata": {
    "id": "LGfMUeYLniMI"
   },
   "source": [
    "## 7. Model Evaluation"
   ]
  },
  {
   "cell_type": "code",
   "execution_count": 89,
   "metadata": {
    "colab": {
     "base_uri": "https://localhost:8080/"
    },
    "id": "m8Ur7lSrlbDc",
    "outputId": "b6124fa5-8493-409d-8fdb-3fec18e0cb5d"
   },
   "outputs": [
    {
     "name": "stdout",
     "output_type": "stream",
     "text": [
      "Mean Absolute Error (MAE): 2.2130355450395514\n",
      "Mean Squared Error (MSE): 6.965068656155088\n",
      "Root Mean Squared Error (RMSE): 2.639141651400146\n"
     ]
    }
   ],
   "source": [
    "# error metrics\n",
    "mae = np.mean(np.abs(residuals))\n",
    "mse = np.mean(residuals**2)\n",
    "rmse = np.sqrt(mse)\n",
    "\n",
    "print(f\"Mean Absolute Error (MAE): {mae}\")\n",
    "print(f\"Mean Squared Error (MSE): {mse}\")\n",
    "print(f\"Root Mean Squared Error (RMSE): {rmse}\")"
   ]
  },
  {
   "cell_type": "code",
   "execution_count": 90,
   "metadata": {},
   "outputs": [],
   "source": [
    "metrics = ['MAE', 'MSE', 'RMSE']\n",
    "values = [mae, mse, rmse]"
   ]
  },
  {
   "cell_type": "markdown",
   "metadata": {},
   "source": [
    "# Plotting the error metrics as a bar chart"
   ]
  },
  {
   "cell_type": "code",
   "execution_count": 91,
   "metadata": {},
   "outputs": [
    {
     "data": {
      "image/png": "[encoded data removed]",
      "text/plain": [
       "<Figure size 800x500 with 1 Axes>"
      ]
     },
     "metadata": {},
     "output_type": "display_data"
    }
   ],
   "source": [
    "plt.figure(figsize=(8, 5))\n",
    "plt.bar(metrics, values, color=['skyblue', 'royalblue', 'green'])\n",
    "plt.title(\"Error Metrics\")\n",
    "plt.ylabel(\"Value\")\n",
    "plt.xlabel(\"Metrics\")\n",
    "plt.grid(axis='y', linestyle='--', alpha=0.7)\n",
    "plt.show()"
   ]
  },
  {
   "cell_type": "markdown",
   "metadata": {},
   "source": [
    "# Error distribution plot"
   ]
  },
  {
   "cell_type": "code",
   "execution_count": 92,
   "metadata": {},
   "outputs": [
    {
     "data": {
      "image/png": "[encoded data removed]",
      "text/plain": [
       "<Figure size 800x500 with 1 Axes>"
      ]
     },
     "metadata": {},
     "output_type": "display_data"
    }
   ],
   "source": [
    "plt.figure(figsize=(8, 5))\n",
    "plt.hist(residuals, bins=20, color='royalblue', alpha=0.7, edgecolor='black')\n",
    "plt.title(\"Residuals Distribution\")\n",
    "plt.xlabel(\"Residuals\")\n",
    "plt.ylabel(\"Frequency\")\n",
    "plt.grid(axis='y', linestyle='--', alpha=0.7)\n",
    "plt.show()\n"
   ]
  },
  {
   "cell_type": "markdown",
   "metadata": {},
   "source": [
    "# Residuals vs. predicted values (example predicted data)"
   ]
  },
  {
   "cell_type": "code",
   "execution_count": 93,
   "metadata": {},
   "outputs": [
    {
     "data": {
      "image/png": "[encoded data removed]",
      "text/plain": [
       "<Figure size 800x500 with 1 Axes>"
      ]
     },
     "metadata": {},
     "output_type": "display_data"
    }
   ],
   "source": [
    "plt.figure(figsize=(8, 5))\n",
    "plt.scatter(y_pred, residuals,color='royalblue', alpha=0.7)\n",
    "plt.axhline(0, color='red', linestyle='--', label='Zero Error Line')\n",
    "plt.title(\"Residuals vs. Predicted Values\")\n",
    "plt.xlabel(\"Predicted Values\")\n",
    "plt.ylabel(\"Residuals\")\n",
    "plt.legend()\n",
    "plt.grid(alpha=0.5)\n",
    "plt.show()"
   ]
  },
  {
   "cell_type": "markdown",
   "metadata": {},
   "source": [
    "# End of Task 1"
   ]
  },
  {
   "cell_type": "markdown",
   "metadata": {},
   "source": [
    "# Task 2"
   ]
  },
  {
   "cell_type": "code",
   "execution_count": 94,
   "metadata": {
    "id": "oaFWfZBjtm4V"
   },
   "outputs": [],
   "source": [
    "import numpy as np\n",
    "import pandas as pd\n"
   ]
  },
  {
   "cell_type": "markdown",
   "metadata": {
    "id": "DIzDwcY5uUmV"
   },
   "source": [
    "# 1. Dataset Preparation"
   ]
  },
  {
   "cell_type": "code",
   "execution_count": 95,
   "metadata": {
    "id": "q3pDPtbatrzU"
   },
   "outputs": [],
   "source": [
    "np.random.seed(42)\n",
    "x = 2 * np.random.rand(100, 1)\n",
    "y = 4 + 3 * x + np.random.randn(100, 1)\n",
    "\n"
   ]
  },
  {
   "cell_type": "code",
   "execution_count": 96,
   "metadata": {
    "id": "FSEjKX8jv9KB"
   },
   "outputs": [],
   "source": [
    "data = pd.DataFrame({\n",
    "    'X': x.flatten(),  # Flatten the array for a single column\n",
    "    'y': y.flatten()   # Flatten the array for a single column\n",
    "})"
   ]
  },
  {
   "cell_type": "code",
   "execution_count": 97,
   "metadata": {
    "colab": {
     "base_uri": "https://localhost:8080/",
     "height": 1000
    },
    "id": "3iiJORX4v96w",
    "outputId": "a2fefed7-5671-4734-ee4c-82d506ea2bec"
   },
   "outputs": [
    {
     "data": {
      "text/html": [
       "<div>\n",
       "<style scoped>\n",
       "    .dataframe tbody tr th:only-of-type {\n",
       "        vertical-align: middle;\n",
       "    }\n",
       "\n",
       "    .dataframe tbody tr th {\n",
       "        vertical-align: top;\n",
       "    }\n",
       "\n",
       "    .dataframe thead th {\n",
       "        text-align: right;\n",
       "    }\n",
       "</style>\n",
       "<table border=\"1\" class=\"dataframe\">\n",
       "  <thead>\n",
       "    <tr style=\"text-align: right;\">\n",
       "      <th></th>\n",
       "      <th>X</th>\n",
       "      <th>y</th>\n",
       "    </tr>\n",
       "  </thead>\n",
       "  <tbody>\n",
       "    <tr>\n",
       "      <th>0</th>\n",
       "      <td>0.749080</td>\n",
       "      <td>6.334288</td>\n",
       "    </tr>\n",
       "    <tr>\n",
       "      <th>1</th>\n",
       "      <td>1.901429</td>\n",
       "      <td>9.405278</td>\n",
       "    </tr>\n",
       "    <tr>\n",
       "      <th>2</th>\n",
       "      <td>1.463988</td>\n",
       "      <td>8.483724</td>\n",
       "    </tr>\n",
       "    <tr>\n",
       "      <th>3</th>\n",
       "      <td>1.197317</td>\n",
       "      <td>5.604382</td>\n",
       "    </tr>\n",
       "    <tr>\n",
       "      <th>4</th>\n",
       "      <td>0.312037</td>\n",
       "      <td>4.716440</td>\n",
       "    </tr>\n",
       "    <tr>\n",
       "      <th>...</th>\n",
       "      <td>...</td>\n",
       "      <td>...</td>\n",
       "    </tr>\n",
       "    <tr>\n",
       "      <th>95</th>\n",
       "      <td>0.987591</td>\n",
       "      <td>6.146963</td>\n",
       "    </tr>\n",
       "    <tr>\n",
       "      <th>96</th>\n",
       "      <td>1.045466</td>\n",
       "      <td>7.059295</td>\n",
       "    </tr>\n",
       "    <tr>\n",
       "      <th>97</th>\n",
       "      <td>0.855082</td>\n",
       "      <td>6.906398</td>\n",
       "    </tr>\n",
       "    <tr>\n",
       "      <th>98</th>\n",
       "      <td>0.050838</td>\n",
       "      <td>4.429206</td>\n",
       "    </tr>\n",
       "    <tr>\n",
       "      <th>99</th>\n",
       "      <td>0.215783</td>\n",
       "      <td>5.474532</td>\n",
       "    </tr>\n",
       "  </tbody>\n",
       "</table>\n",
       "<p>100 rows × 2 columns</p>\n",
       "</div>"
      ],
      "text/plain": [
       "           X         y\n",
       "0   0.749080  6.334288\n",
       "1   1.901429  9.405278\n",
       "2   1.463988  8.483724\n",
       "3   1.197317  5.604382\n",
       "4   0.312037  4.716440\n",
       "..       ...       ...\n",
       "95  0.987591  6.146963\n",
       "96  1.045466  7.059295\n",
       "97  0.855082  6.906398\n",
       "98  0.050838  4.429206\n",
       "99  0.215783  5.474532\n",
       "\n",
       "[100 rows x 2 columns]"
      ]
     },
     "execution_count": 97,
     "metadata": {},
     "output_type": "execute_result"
    }
   ],
   "source": [
    "data"
   ]
  },
  {
   "cell_type": "markdown",
   "metadata": {
    "id": "zeJKKYVluK7u"
   },
   "source": [
    "# 2. Data Visualization"
   ]
  },
  {
   "cell_type": "code",
   "execution_count": 98,
   "metadata": {},
   "outputs": [],
   "source": [
    "import matplotlib.pyplot as plt\n"
   ]
  },
  {
   "cell_type": "code",
   "execution_count": 99,
   "metadata": {
    "colab": {
     "base_uri": "https://localhost:8080/",
     "height": 472
    },
    "id": "E_352B_StslY",
    "outputId": "7dbd51c6-1cb7-48dc-c328-853b7459b5c1"
   },
   "outputs": [
    {
     "data": {
      "image/png": "[encoded data removed]",
      "text/plain": [
       "<Figure size 640x480 with 1 Axes>"
      ]
     },
     "metadata": {},
     "output_type": "display_data"
    }
   ],
   "source": [
    "plt.scatter(x,y,color='royalblue',label='Data Points')\n",
    "plt.title('Relationship between x and y')\n",
    "plt.xlabel('x (independent)')\n",
    "plt.ylabel('y (dependent)')\n",
    "plt.legend()\n",
    "plt.show()"
   ]
  },
  {
   "cell_type": "markdown",
   "metadata": {
    "id": "9-dp4AaguFGF"
   },
   "source": [
    "# 3. Cost Function (Mean Squared Error)"
   ]
  },
  {
   "cell_type": "markdown",
   "metadata": {},
   "source": [
    "### In linear regression, the cost function quantifies the error between predicted values and actual data points. It is a measure of how far off a linear model’s predictions are from the actual values. The most commonly used cost function in linear regression is the Mean Squared Error (MSE) function. The MSE function is defined as:\n",
    "\n",
    " \n"
   ]
  },
  {
   "attachments": {
    "3fa0e692-3ac2-4cd3-bb1b-76607a45f5c6.png": {
     "image/png": "[encoded data removed]"
    }
   },
   "cell_type": "markdown",
   "metadata": {},
   "source": [
    "![image.png](attachment:3fa0e692-3ac2-4cd3-bb1b-76607a45f5c6.png)"
   ]
  },
  {
   "cell_type": "markdown",
   "metadata": {},
   "source": [
    "### The Mean Squared Error measures how close a regression line is to a set of data points. It is a risk function corresponding to the expected value of the squared error loss. "
   ]
  },
  {
   "cell_type": "code",
   "execution_count": 100,
   "metadata": {},
   "outputs": [],
   "source": [
    "def compute_cost(theta_0, theta_1, data):\n",
    "    n = len(data)\n",
    "    predictions = theta_0 + theta_1 * data['X']  # y_hat = theta_0 + theta_1 * X\n",
    "    cost = (1 / (n)) * np.sum((predictions - data['y']) ** 2)\n",
    "    return cost"
   ]
  },
  {
   "cell_type": "code",
   "execution_count": 119,
   "metadata": {},
   "outputs": [
    {
     "data": {
      "text/plain": [
       "60.34873531065465"
      ]
     },
     "execution_count": 119,
     "metadata": {},
     "output_type": "execute_result"
    }
   ],
   "source": [
    "compute_cost(np.random.randn(),np.random.randn(), data)"
   ]
  },
  {
   "cell_type": "markdown",
   "metadata": {},
   "source": [
    "# 4.Gradient Descent Algorithm\n"
   ]
  },
  {
   "cell_type": "code",
   "execution_count": 102,
   "metadata": {},
   "outputs": [],
   "source": [
    "def gradient_descent(data, learning_rate, n_iterations):\n",
    "    \"\"\"Perform gradient descent to minimize the cost function.\"\"\"\n",
    "    m = len(data)\n",
    "    theta_0 = np.random.randn()  # Randomly initialize theta_0 (intercept)\n",
    "    theta_1 = np.random.randn()  # Randomly initialize theta_1 (slope)\n",
    "    cost_history = []\n",
    "\n",
    "    for iteration in range(n_iterations):\n",
    "        predictions = theta_0 + theta_1 * data['X']\n",
    "        d_theta_0 = (1 / m) * np.sum(predictions - data['y'])  # Derivative w.r.t theta_0\n",
    "        d_theta_1 = (1 / m) * np.sum((predictions - data['y']) * data['X'])  # Derivative w.r.t theta_1\n",
    "\n",
    "        # Update rules\n",
    "        theta_0 -= learning_rate * d_theta_0\n",
    "        theta_1 -= learning_rate * d_theta_1\n",
    "\n",
    "        # Compute and store the cost\n",
    "        cost_history.append(compute_cost(theta_0, theta_1, data))\n",
    "\n",
    "    return theta_0, theta_1, cost_history"
   ]
  },
  {
   "cell_type": "markdown",
   "metadata": {},
   "source": [
    "## Parameters for gradient descent"
   ]
  },
  {
   "cell_type": "code",
   "execution_count": 103,
   "metadata": {},
   "outputs": [],
   "source": [
    "\n",
    "n_iterations = 5000\n",
    "learning_rates = [0.1, 0.01, 0.001]"
   ]
  },
  {
   "cell_type": "markdown",
   "metadata": {},
   "source": [
    "## Train models with different learning rates"
   ]
  },
  {
   "cell_type": "code",
   "execution_count": 104,
   "metadata": {},
   "outputs": [
    {
     "data": {
      "image/png": "[encoded data removed]",
      "text/plain": [
       "<Figure size 1200x800 with 1 Axes>"
      ]
     },
     "metadata": {},
     "output_type": "display_data"
    }
   ],
   "source": [
    "\n",
    "plt.figure(figsize=(12, 8))\n",
    "for lr in learning_rates:\n",
    "    theta_0, theta_1, cost_history = gradient_descent(data, learning_rate=lr, n_iterations=n_iterations)\n",
    "    plt.plot(range(n_iterations), cost_history, label=f'LearningRate={lr}')\n",
    "# Plotting the cost function\n",
    "plt.title('Cost Function vs. Iterations')\n",
    "plt.xlabel('Number of Iterations')\n",
    "plt.ylabel('Cost')\n",
    "plt.legend()\n",
    "plt.grid()\n",
    "plt.show()"
   ]
  },
  {
   "cell_type": "markdown",
   "metadata": {},
   "source": [
    "## 5. Model Prediction and Visualization"
   ]
  },
  {
   "cell_type": "code",
   "execution_count": 105,
   "metadata": {},
   "outputs": [],
   "source": [
    "final_theta_0, final_theta_1, _ = gradient_descent(data, learning_rate=0.1, n_iterations=n_iterations)\n",
    "data['y_prediction'] = final_theta_0 + final_theta_1 * data['X']\n"
   ]
  },
  {
   "cell_type": "code",
   "execution_count": 106,
   "metadata": {},
   "outputs": [
    {
     "data": {
      "text/html": [
       "<div>\n",
       "<style scoped>\n",
       "    .dataframe tbody tr th:only-of-type {\n",
       "        vertical-align: middle;\n",
       "    }\n",
       "\n",
       "    .dataframe tbody tr th {\n",
       "        vertical-align: top;\n",
       "    }\n",
       "\n",
       "    .dataframe thead th {\n",
       "        text-align: right;\n",
       "    }\n",
       "</style>\n",
       "<table border=\"1\" class=\"dataframe\">\n",
       "  <thead>\n",
       "    <tr style=\"text-align: right;\">\n",
       "      <th></th>\n",
       "      <th>X</th>\n",
       "      <th>y</th>\n",
       "      <th>y_prediction</th>\n",
       "    </tr>\n",
       "  </thead>\n",
       "  <tbody>\n",
       "    <tr>\n",
       "      <th>0</th>\n",
       "      <td>0.749080</td>\n",
       "      <td>6.334288</td>\n",
       "      <td>6.290133</td>\n",
       "    </tr>\n",
       "    <tr>\n",
       "      <th>1</th>\n",
       "      <td>1.901429</td>\n",
       "      <td>9.405278</td>\n",
       "      <td>9.482269</td>\n",
       "    </tr>\n",
       "    <tr>\n",
       "      <th>2</th>\n",
       "      <td>1.463988</td>\n",
       "      <td>8.483724</td>\n",
       "      <td>8.270509</td>\n",
       "    </tr>\n",
       "    <tr>\n",
       "      <th>3</th>\n",
       "      <td>1.197317</td>\n",
       "      <td>5.604382</td>\n",
       "      <td>7.531800</td>\n",
       "    </tr>\n",
       "    <tr>\n",
       "      <th>4</th>\n",
       "      <td>0.312037</td>\n",
       "      <td>4.716440</td>\n",
       "      <td>5.079475</td>\n",
       "    </tr>\n",
       "    <tr>\n",
       "      <th>...</th>\n",
       "      <td>...</td>\n",
       "      <td>...</td>\n",
       "      <td>...</td>\n",
       "    </tr>\n",
       "    <tr>\n",
       "      <th>95</th>\n",
       "      <td>0.987591</td>\n",
       "      <td>6.146963</td>\n",
       "      <td>6.950836</td>\n",
       "    </tr>\n",
       "    <tr>\n",
       "      <th>96</th>\n",
       "      <td>1.045466</td>\n",
       "      <td>7.059295</td>\n",
       "      <td>7.111155</td>\n",
       "    </tr>\n",
       "    <tr>\n",
       "      <th>97</th>\n",
       "      <td>0.855082</td>\n",
       "      <td>6.906398</td>\n",
       "      <td>6.583770</td>\n",
       "    </tr>\n",
       "    <tr>\n",
       "      <th>98</th>\n",
       "      <td>0.050838</td>\n",
       "      <td>4.429206</td>\n",
       "      <td>4.355924</td>\n",
       "    </tr>\n",
       "    <tr>\n",
       "      <th>99</th>\n",
       "      <td>0.215783</td>\n",
       "      <td>5.474532</td>\n",
       "      <td>4.812839</td>\n",
       "    </tr>\n",
       "  </tbody>\n",
       "</table>\n",
       "<p>100 rows × 3 columns</p>\n",
       "</div>"
      ],
      "text/plain": [
       "           X         y  y_prediction\n",
       "0   0.749080  6.334288      6.290133\n",
       "1   1.901429  9.405278      9.482269\n",
       "2   1.463988  8.483724      8.270509\n",
       "3   1.197317  5.604382      7.531800\n",
       "4   0.312037  4.716440      5.079475\n",
       "..       ...       ...           ...\n",
       "95  0.987591  6.146963      6.950836\n",
       "96  1.045466  7.059295      7.111155\n",
       "97  0.855082  6.906398      6.583770\n",
       "98  0.050838  4.429206      4.355924\n",
       "99  0.215783  5.474532      4.812839\n",
       "\n",
       "[100 rows x 3 columns]"
      ]
     },
     "execution_count": 106,
     "metadata": {},
     "output_type": "execute_result"
    }
   ],
   "source": [
    "data"
   ]
  },
  {
   "cell_type": "code",
   "execution_count": 107,
   "metadata": {},
   "outputs": [
    {
     "data": {
      "image/png": "[encoded data removed]",
      "text/plain": [
       "<Figure size 800x600 with 1 Axes>"
      ]
     },
     "metadata": {},
     "output_type": "display_data"
    }
   ],
   "source": [
    "plt.figure(figsize=(8, 6))\n",
    "plt.scatter(data['X'], data['y'], color='blue', label='Data')\n",
    "plt.plot(data['X'], data['y_prediction'], color='red', label='Prediction', linewidth=2)\n",
    "plt.title('Linear Regression Fit')\n",
    "plt.xlabel('X')\n",
    "plt.ylabel('y')\n",
    "plt.legend()\n",
    "plt.grid()\n",
    "plt.show()"
   ]
  },
  {
   "cell_type": "markdown",
   "metadata": {},
   "source": [
    "#  final parameters"
   ]
  },
  {
   "cell_type": "code",
   "execution_count": 108,
   "metadata": {},
   "outputs": [
    {
     "name": "stdout",
     "output_type": "stream",
     "text": [
      "Final parameters: theta_0 = 4.215096157546728, theta_1 = 2.7701133864385015\n"
     ]
    }
   ],
   "source": [
    "print(f\"Final parameters: theta_0 = {final_theta_0}, theta_1 = {final_theta_1}\")"
   ]
  },
  {
   "cell_type": "markdown",
   "metadata": {},
   "source": [
    "#### Before gradient descent , the cost was : "
   ]
  },
  {
   "cell_type": "code",
   "execution_count": 117,
   "metadata": {},
   "outputs": [
    {
     "data": {
      "text/plain": [
       "66.94572657178185"
      ]
     },
     "execution_count": 117,
     "metadata": {},
     "output_type": "execute_result"
    }
   ],
   "source": [
    "compute_cost(np.random.randn(),np.random.randn(), data)"
   ]
  },
  {
   "cell_type": "markdown",
   "metadata": {},
   "source": [
    "#### After gradient descent , the cost is :"
   ]
  },
  {
   "cell_type": "code",
   "execution_count": 110,
   "metadata": {},
   "outputs": [
    {
     "data": {
      "text/plain": [
       "0.8065845639670532"
      ]
     },
     "execution_count": 110,
     "metadata": {},
     "output_type": "execute_result"
    }
   ],
   "source": [
    "compute_cost(4.215096157546728, 2.7701133864385015, data)"
   ]
  },
  {
   "cell_type": "markdown",
   "metadata": {
    "id": "mnpdkUFCt31i"
   },
   "source": [
    "## 6. Model Evaluation"
   ]
  },
  {
   "cell_type": "code",
   "execution_count": 111,
   "metadata": {},
   "outputs": [],
   "source": [
    "from sklearn.metrics import mean_absolute_error, mean_squared_error, r2_score"
   ]
  },
  {
   "cell_type": "code",
   "execution_count": 114,
   "metadata": {
    "colab": {
     "base_uri": "https://localhost:8080/"
    },
    "id": "ZLzIprDNt2Nr",
    "outputId": "b543f2ec-def1-451c-d4f2-92a3642d6c7f"
   },
   "outputs": [
    {
     "name": "stdout",
     "output_type": "stream",
     "text": [
      "Model Evaluation Metrics:\n",
      "MAE: 0.7010\n",
      "MSE: 0.8066\n",
      "RMSE: 0.8981\n",
      "R^2: 0.7693\n"
     ]
    }
   ],
   "source": [
    "mae = mean_absolute_error(data['y'],data['y_prediction'])\n",
    "mse = mean_squared_error(data['y'],data['y_prediction'])\n",
    "rmse = np.sqrt(mse)\n",
    "r2 = r2_score(data['y'],data['y_prediction'])\n",
    "\n",
    "print(f\"Model Evaluation Metrics:\\nMAE: {mae:.4f}\\nMSE: {mse:.4f}\\nRMSE: {rmse:.4f}\\nR^2: {r2:.4f}\")"
   ]
  },
  {
   "cell_type": "markdown",
   "metadata": {},
   "source": [
    "## Model's Evaluation Metrics:"
   ]
  },
  {
   "cell_type": "markdown",
   "metadata": {},
   "source": [
    "### Mean Absolute Error (MAE): 0.7010"
   ]
  },
  {
   "cell_type": "markdown",
   "metadata": {},
   "source": [
    "This is a relatively low error, which indicates that your model is making predictions that are fairly close to the true values."
   ]
  },
  {
   "cell_type": "markdown",
   "metadata": {},
   "source": [
    "### Mean Squared Error (MSE): 0.8066"
   ]
  },
  {
   "cell_type": "markdown",
   "metadata": {},
   "source": [
    "Since MSE penalizes larger errors more than smaller ones, the value indicates that the model generally avoids making large errors. However, being in squared units, it’s harder to interpret directly."
   ]
  },
  {
   "cell_type": "markdown",
   "metadata": {},
   "source": [
    "## Root Mean Squared Error (RMSE): 0.8981"
   ]
  },
  {
   "cell_type": "markdown",
   "metadata": {},
   "source": [
    "RMSE provides an intuitive sense of how far off the model's predictions are from actual values. A value below 1.0 indicates reasonably good performance, considering the scale of  data."
   ]
  },
  {
   "cell_type": "markdown",
   "metadata": {},
   "source": [
    "## R-Squared (𝑅2): 0.7693"
   ]
  },
  {
   "cell_type": "markdown",
   "metadata": {},
   "source": [
    "This is a fairly good value, suggesting that the model captures the majority of the variation in the data, but there’s still around 23% of the variation unexplained, which could be due to noise or factors not included in the model."
   ]
  },
  {
   "cell_type": "markdown",
   "metadata": {},
   "source": [
    "# End of Task 2"
   ]
  },
  {
   "cell_type": "markdown",
   "metadata": {},
   "source": [
    "# End of Assignment"
   ]
  },
  {
   "cell_type": "code",
   "execution_count": null,
   "metadata": {},
   "outputs": [],
   "source": []
  }
 ],
 "metadata": {
  "colab": {
   "provenance": []
  },
  "kernelspec": {
   "display_name": "Python 3 (ipykernel)",
   "language": "python",
   "name": "python3"
  },
  "language_info": {
   "codemirror_mode": {
    "name": "ipython",
    "version": 3
   },
   "file_extension": ".py",
   "mimetype": "text/x-python",
   "name": "python",
   "nbconvert_exporter": "python",
   "pygments_lexer": "ipython3",
   "version": "3.12.3"
  }
 },
 "nbformat": 4,
 "nbformat_minor": 4
}
